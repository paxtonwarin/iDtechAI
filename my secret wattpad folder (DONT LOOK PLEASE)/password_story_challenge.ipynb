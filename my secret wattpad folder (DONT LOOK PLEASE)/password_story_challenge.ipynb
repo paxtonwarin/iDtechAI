{
 "cells": [
  {
   "cell_type": "code",
   "execution_count": null,
   "id": "f2172e46",
   "metadata": {},
   "outputs": [],
   "source": [
    "passwd = input(\"Enter the correct password to view the spookiest story everrrrr.\\n\")\n",
    "\n",
    "if passwd == \"spookyspook\":\n",
    "    print(\"once upon a time there was a ghost.\\nGoodbye!\")\n",
    "else:\n",
    "    print(\"WRONG PASSWORD! I am going to haunt you forever.\")"
   ]
  },
  {
   "cell_type": "code",
   "execution_count": null,
   "id": "06500141",
   "metadata": {},
   "outputs": [],
   "source": []
  },
  {
   "cell_type": "code",
   "execution_count": null,
   "id": "edaa51d8",
   "metadata": {},
   "outputs": [],
   "source": []
  }
 ],
 "metadata": {
  "kernelspec": {
   "display_name": "Python 3 (ipykernel)",
   "language": "python",
   "name": "python3"
  },
  "language_info": {
   "codemirror_mode": {
    "name": "ipython",
    "version": 3
   },
   "file_extension": ".py",
   "mimetype": "text/x-python",
   "name": "python",
   "nbconvert_exporter": "python",
   "pygments_lexer": "ipython3",
   "version": "3.10.0"
  }
 },
 "nbformat": 4,
 "nbformat_minor": 5
}
