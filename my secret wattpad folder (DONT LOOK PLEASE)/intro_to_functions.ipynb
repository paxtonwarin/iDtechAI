{
 "cells": [
  {
   "cell_type": "markdown",
   "metadata": {
    "id": "BgWYX-mVVT7p"
   },
   "source": [
    "# Function Introduction\n",
    "\n",
    "\n",
    "There will be times when you want to perform a series of actions, and instead of writing those statements over and over every time, you can use a function!\n",
    "\n",
    "Function declarations look like this:\n",
    "\n",
    "\n",
    "\n",
    "```\n",
    " def function_name():\n",
    "      #Code to run goes here.\n",
    "      \n",
    "```\n",
    "\n",
    "1. Fill in the code for the body of the function so that it generates a random number between 0 and 2, and prints the results.\n"
   ]
  },
  {
   "cell_type": "code",
   "execution_count": 12,
   "metadata": {
    "id": "mPW-NxFAVOCn"
   },
   "outputs": [],
   "source": [
    "import random \n",
    "\n",
    "def random_number():\n",
    " r = random.randit(0,2)\n",
    " print(r)"
   ]
  },
  {
   "cell_type": "markdown",
   "metadata": {
    "id": "kEHTUH9WV1ko"
   },
   "source": [
    "## Call a Function\n",
    "\n",
    "To Call a function put the name of it followed by opening and closing parentheses wherever you want it to run in your program.\n",
    "\n",
    "2. Run the cell below to call your function."
   ]
  },
  {
   "cell_type": "code",
   "execution_count": 18,
   "metadata": {
    "id": "dhV9zk7SV_6d"
   },
   "outputs": [
    {
     "name": "stdout",
     "output_type": "stream",
     "text": [
      "2\n"
     ]
    }
   ],
   "source": [
    "import random \n",
    "\n",
    "def random_number():\n",
    " r = random.randint(0,2)\n",
    " print(r)\n",
    "\n",
    "random_number()"
   ]
  },
  {
   "cell_type": "markdown",
   "metadata": {
    "id": "raAb9hL0WDUX"
   },
   "source": [
    "## Return Values\n",
    "\n",
    "You can have a function **return** a value, and you can use that value to pull information out of the function after it runs. \n",
    "\n",
    "\n",
    "3. Looking at the same function as before, update it so that instead of printing rand, it returns rand. "
   ]
  },
  {
   "cell_type": "code",
   "execution_count": 25,
   "metadata": {
    "id": "70R5bA7lWJ5J"
   },
   "outputs": [
    {
     "name": "stdout",
     "output_type": "stream",
     "text": [
      "1\n"
     ]
    }
   ],
   "source": [
    "def random_number():\n",
    "  rand = random.randrange(0,2)\n",
    "  # Update the code here:\n",
    "  return rand\n",
    "  \n",
    "  \n",
    "a_number = random_number()\n",
    "print(a_number)"
   ]
  },
  {
   "cell_type": "markdown",
   "metadata": {
    "id": "ZEnlopprWnRY"
   },
   "source": [
    "## Arguments\n",
    "\n",
    "An **argument** is a way for you to provide more information to a function. The function can then use that information as it runs, like a variable.\n",
    "\n",
    "Arguments go inside the parentheses after a function. You can add as many arguments as you want, as long as they are separated by commas. \n",
    "\n",
    "4. Run the code below to see how an argument could work in your random_number function."
   ]
  },
  {
   "cell_type": "code",
   "execution_count": 30,
   "metadata": {
    "id": "Qh0bsHmCW6UZ"
   },
   "outputs": [
    {
     "name": "stdout",
     "output_type": "stream",
     "text": [
      "2\n"
     ]
    }
   ],
   "source": [
    "def random_number(max_int):\n",
    "    rand = random.randrange(0, max_int)\n",
    "    return rand\n",
    "\n",
    "a_number = random_number(5)\n",
    "print(a_number)"
   ]
  },
  {
   "cell_type": "markdown",
   "metadata": {
    "id": "odHUIRV1W-_L"
   },
   "source": [
    "### Try this! \n",
    "\n",
    "Can you create a function that takes two arguments and generates a random number in between those two numbers? "
   ]
  },
  {
   "cell_type": "code",
   "execution_count": 35,
   "metadata": {
    "id": "1_2rlrn3XNeS"
   },
   "outputs": [
    {
     "name": "stdout",
     "output_type": "stream",
     "text": [
      "8\n"
     ]
    }
   ],
   "source": [
    "# Add your code here: \n",
    "def random_number(min_int, max_int):\n",
    "    rand = random.randrange(min_int, max_int)\n",
    "    return rand\n",
    "\n",
    "\n",
    "# Test using this code\n",
    "a_number = random_number(5, 10)\n",
    "print(a_number)"
   ]
  },
  {
   "cell_type": "markdown",
   "metadata": {
    "id": "hwEjy2HeXU_2"
   },
   "source": [
    "<details>\n",
    "<summary> Click here for one example</summary>\n",
    "\n",
    "```\n",
    "def random_number(min_int, max_int):\n",
    "  rand = random.randrange(min_int, max_int):\n",
    "  return rand\n",
    "\n",
    "```\n",
    "\n",
    "</details>"
   ]
  }
 ],
 "metadata": {
  "colab": {
   "collapsed_sections": [],
   "provenance": []
  },
  "kernelspec": {
   "display_name": "Python 3 (ipykernel)",
   "language": "python",
   "name": "python3"
  },
  "language_info": {
   "codemirror_mode": {
    "name": "ipython",
    "version": 3
   },
   "file_extension": ".py",
   "mimetype": "text/x-python",
   "name": "python",
   "nbconvert_exporter": "python",
   "pygments_lexer": "ipython3",
   "version": "3.10.0"
  }
 },
 "nbformat": 4,
 "nbformat_minor": 1
}
