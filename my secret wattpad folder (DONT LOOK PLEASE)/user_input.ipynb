{
 "cells": [
  {
   "cell_type": "markdown",
   "metadata": {
    "id": "myrQqqGkemTR"
   },
   "source": [
    "# User Input #\n",
    "\n",
    "It's important when you're making programs to be able to get input from a user.\n",
    "\n",
    "Whether it's in the form of them entering a username, or password, using a keyboard to control a player in a game, or moving around with a mouse, there's a lot of coding that's responding to input from users.\n",
    "\n",
    "In the programs you've been working on, if you want the user to enter information with a keyboard you'll use the input function.\n",
    "\n",
    "1. Run the cell below to see how it works."
   ]
  },
  {
   "cell_type": "code",
   "execution_count": 3,
   "metadata": {
    "id": "Uf0eLdbLemcC"
   },
   "outputs": [
    {
     "ename": "KeyboardInterrupt",
     "evalue": "Interrupted by user",
     "output_type": "error",
     "traceback": [
      "\u001b[1;31m---------------------------------------------------------------------------\u001b[0m",
      "\u001b[1;31mKeyboardInterrupt\u001b[0m                         Traceback (most recent call last)",
      "Cell \u001b[1;32mIn[3], line 1\u001b[0m\n\u001b[1;32m----> 1\u001b[0m \u001b[38;5;28;43minput\u001b[39;49m\u001b[43m(\u001b[49m\u001b[38;5;124;43m\"\u001b[39;49m\u001b[38;5;124;43mInput You\u001b[39;49m\u001b[38;5;124;43m'\u001b[39;49m\u001b[38;5;124;43mre Asking For\u001b[39;49m\u001b[38;5;124;43m\"\u001b[39;49m\u001b[43m)\u001b[49m \n",
      "File \u001b[1;32m~\\AppData\\Local\\Programs\\Python\\Python310\\lib\\site-packages\\ipykernel\\kernelbase.py:1175\u001b[0m, in \u001b[0;36mKernel.raw_input\u001b[1;34m(self, prompt)\u001b[0m\n\u001b[0;32m   1171\u001b[0m \u001b[38;5;28;01mif\u001b[39;00m \u001b[38;5;129;01mnot\u001b[39;00m \u001b[38;5;28mself\u001b[39m\u001b[38;5;241m.\u001b[39m_allow_stdin:\n\u001b[0;32m   1172\u001b[0m     \u001b[38;5;28;01mraise\u001b[39;00m StdinNotImplementedError(\n\u001b[0;32m   1173\u001b[0m         \u001b[38;5;124m\"\u001b[39m\u001b[38;5;124mraw_input was called, but this frontend does not support input requests.\u001b[39m\u001b[38;5;124m\"\u001b[39m\n\u001b[0;32m   1174\u001b[0m     )\n\u001b[1;32m-> 1175\u001b[0m \u001b[38;5;28;01mreturn\u001b[39;00m \u001b[38;5;28;43mself\u001b[39;49m\u001b[38;5;241;43m.\u001b[39;49m\u001b[43m_input_request\u001b[49m\u001b[43m(\u001b[49m\n\u001b[0;32m   1176\u001b[0m \u001b[43m    \u001b[49m\u001b[38;5;28;43mstr\u001b[39;49m\u001b[43m(\u001b[49m\u001b[43mprompt\u001b[49m\u001b[43m)\u001b[49m\u001b[43m,\u001b[49m\n\u001b[0;32m   1177\u001b[0m \u001b[43m    \u001b[49m\u001b[38;5;28;43mself\u001b[39;49m\u001b[38;5;241;43m.\u001b[39;49m\u001b[43m_parent_ident\u001b[49m\u001b[43m[\u001b[49m\u001b[38;5;124;43m\"\u001b[39;49m\u001b[38;5;124;43mshell\u001b[39;49m\u001b[38;5;124;43m\"\u001b[39;49m\u001b[43m]\u001b[49m\u001b[43m,\u001b[49m\n\u001b[0;32m   1178\u001b[0m \u001b[43m    \u001b[49m\u001b[38;5;28;43mself\u001b[39;49m\u001b[38;5;241;43m.\u001b[39;49m\u001b[43mget_parent\u001b[49m\u001b[43m(\u001b[49m\u001b[38;5;124;43m\"\u001b[39;49m\u001b[38;5;124;43mshell\u001b[39;49m\u001b[38;5;124;43m\"\u001b[39;49m\u001b[43m)\u001b[49m\u001b[43m,\u001b[49m\n\u001b[0;32m   1179\u001b[0m \u001b[43m    \u001b[49m\u001b[43mpassword\u001b[49m\u001b[38;5;241;43m=\u001b[39;49m\u001b[38;5;28;43;01mFalse\u001b[39;49;00m\u001b[43m,\u001b[49m\n\u001b[0;32m   1180\u001b[0m \u001b[43m\u001b[49m\u001b[43m)\u001b[49m\n",
      "File \u001b[1;32m~\\AppData\\Local\\Programs\\Python\\Python310\\lib\\site-packages\\ipykernel\\kernelbase.py:1217\u001b[0m, in \u001b[0;36mKernel._input_request\u001b[1;34m(self, prompt, ident, parent, password)\u001b[0m\n\u001b[0;32m   1214\u001b[0m             \u001b[38;5;28;01mbreak\u001b[39;00m\n\u001b[0;32m   1215\u001b[0m \u001b[38;5;28;01mexcept\u001b[39;00m \u001b[38;5;167;01mKeyboardInterrupt\u001b[39;00m:\n\u001b[0;32m   1216\u001b[0m     \u001b[38;5;66;03m# re-raise KeyboardInterrupt, to truncate traceback\u001b[39;00m\n\u001b[1;32m-> 1217\u001b[0m     \u001b[38;5;28;01mraise\u001b[39;00m \u001b[38;5;167;01mKeyboardInterrupt\u001b[39;00m(\u001b[38;5;124m\"\u001b[39m\u001b[38;5;124mInterrupted by user\u001b[39m\u001b[38;5;124m\"\u001b[39m) \u001b[38;5;28;01mfrom\u001b[39;00m \u001b[38;5;28mNone\u001b[39m\n\u001b[0;32m   1218\u001b[0m \u001b[38;5;28;01mexcept\u001b[39;00m \u001b[38;5;167;01mException\u001b[39;00m:\n\u001b[0;32m   1219\u001b[0m     \u001b[38;5;28mself\u001b[39m\u001b[38;5;241m.\u001b[39mlog\u001b[38;5;241m.\u001b[39mwarning(\u001b[38;5;124m\"\u001b[39m\u001b[38;5;124mInvalid Message:\u001b[39m\u001b[38;5;124m\"\u001b[39m, exc_info\u001b[38;5;241m=\u001b[39m\u001b[38;5;28;01mTrue\u001b[39;00m)\n",
      "\u001b[1;31mKeyboardInterrupt\u001b[0m: Interrupted by user"
     ]
    }
   ],
   "source": [
    "input(\"Input You're Asking For\") "
   ]
  },
  {
   "cell_type": "markdown",
   "metadata": {
    "id": "sg0AI5oAe8ss"
   },
   "source": [
    "You'll notice that the text box appears right after the text. You can still type but it looks kind of strange and hard to read. \n",
    "\n",
    "Can you think of some solutions for this problem?\n",
    "\n",
    "1. Try to execute a solution to this problem in the cell below. "
   ]
  },
  {
   "cell_type": "code",
   "execution_count": null,
   "metadata": {},
   "outputs": [],
   "source": [
    "# Add your code to solve this problem here: \n",
    "print(\"Please fill out your name in the following line.\")\n",
    "input(\" \")"
   ]
  },
  {
   "cell_type": "markdown",
   "metadata": {
    "id": "sg0AI5oAe8ss"
   },
   "source": [
    "When you are ready click on this to unfold a list of suggestions.\n",
    "\n",
    "<details>\n",
    "  <summary>Click to expand!</summary>\n",
    "\n",
    " - Add a space when I'm typing.\n",
    " - Add a space at the end of the input string.\n",
    " - Make a print statement before, and have the input field be blank\n",
    "    - ie:\n",
    "    - print(\"What's your name\")\n",
    "    - input(\" \")\n",
    "\n",
    "</details>\n",
    "\n",
    "In coding there are often multiple solutions, so think about what looks best, and what makes the most sense to you and for what information you want?\n",
    "\n",
    "Asking for age on the same line as the question makes sense, but maybe if you're asking for more information, you may want to have it on a new line."
   ]
  },
  {
   "cell_type": "markdown",
   "metadata": {
    "id": "GhEG5qUif_20"
   },
   "source": [
    "# Setting Input to Variables #\n",
    "\n",
    "You can also initialize a variable to input, so to get someone's name as input and then store it as a variable:\n",
    "\n"
   ]
  },
  {
   "cell_type": "code",
   "execution_count": null,
   "metadata": {
    "id": "Wc8SnphBf5HZ"
   },
   "outputs": [],
   "source": [
    "# Create a variable to hold the input\n",
    "name = input(\"What's your name?\\n\")\n",
    "# Print out the input\n",
    "print(name) "
   ]
  },
  {
   "cell_type": "markdown",
   "metadata": {
    "id": "l2BOwQ8JgYf4"
   },
   "source": [
    "1. Try asking your own question and printing out the output."
   ]
  },
  {
   "cell_type": "code",
   "execution_count": null,
   "metadata": {
    "id": "QiuOZZ7igcD7"
   },
   "outputs": [],
   "source": [
    "# Create a variable to hold the input\n",
    "age = input(\"What's your age?\\n\")\n",
    "# Print out the input\n",
    "print(age) "
   ]
  },
  {
   "cell_type": "markdown",
   "metadata": {
    "id": "4V8kAK-_glmG"
   },
   "source": [
    "## Combining Strings and Ints ##\n",
    "When you print information out, you may want to combine multiple types of text, like a variable and a string.\n",
    "\n",
    "1. Run the cell below to see it in action."
   ]
  },
  {
   "cell_type": "code",
   "execution_count": 8,
   "metadata": {
    "id": "STxMXd3yg9HJ"
   },
   "outputs": [
    {
     "name": "stdout",
     "output_type": "stream",
     "text": [
      "Hey Bob, how are you?\n"
     ]
    }
   ],
   "source": [
    "# Print a combined string out below.\n",
    "name = \"Bob\"\n",
    "print(\"Hey \" + name + \", how are you?\") "
   ]
  },
  {
   "cell_type": "markdown",
   "metadata": {
    "id": "zvtP6jEUhHl1"
   },
   "source": [
    "When you run that program, you'll see it all print out as one line. It works with no errors because the name variable is also a string.\n",
    "\n",
    "Anything you enter with the input function will end up being a string.\n",
    "\n",
    "\n",
    "**What would happen if you enter a number like 14 into an input function set to a variable called age, would it be a number or a string?**\n",
    "\n",
    "When you run this cell, what happens? \n"
   ]
  },
  {
   "cell_type": "code",
   "execution_count": null,
   "metadata": {
    "id": "5vGYkPnrhGxO"
   },
   "outputs": [],
   "source": [
    "# Create an age variable\n",
    "age = 14\n",
    "#  Print out a sentence telling you about the age.\n",
    "print(\"You're \" + age)"
   ]
  },
  {
   "cell_type": "markdown",
   "metadata": {
    "id": "neg52lQziNjf"
   },
   "source": [
    "You will probably see an error! This is because in Python print statements can't print out numbers and strings together. It can only print out one type. So to make a number a string you can put **str()** before it. "
   ]
  },
  {
   "cell_type": "code",
   "execution_count": null,
   "metadata": {
    "id": "7HXMGWNGiNTg"
   },
   "outputs": [],
   "source": [
    "# Convert age to a string variable so it can be compounded\n",
    "age_as_word = str(age)\n",
    "# Print out a combined string with the new variable.\n",
    "print(\"You're \" + age_as_word) "
   ]
  },
  {
   "cell_type": "markdown",
   "metadata": {
    "id": "jZx99NPEhvAJ"
   },
   "source": [
    "Then, if you want to make a string into a number, only if it converts, you'd put it between the parenthesis in  int() ."
   ]
  },
  {
   "cell_type": "code",
   "execution_count": 13,
   "metadata": {
    "id": "ABn4T_ujhxp6"
   },
   "outputs": [
    {
     "name": "stdout",
     "output_type": "stream",
     "text": [
      "17\n"
     ]
    }
   ],
   "source": [
    "# Create a string age variable.\n",
    "age = \"14\" \n",
    "# Convert it here:\n",
    "age_as_a_number = int(age)\n",
    "# Print age plus three to make sure it works!\n",
    "print(age_as_a_number + 3)"
   ]
  },
  {
   "cell_type": "code",
   "execution_count": 19,
   "metadata": {},
   "outputs": [
    {
     "name": "stdout",
     "output_type": "stream",
     "text": [
      "What is your social security number? Please include digits only! \n",
      "4098123921739\n",
      "SSN Submitted! Read as: 4098123921739\n"
     ]
    }
   ],
   "source": [
    "ssn = input(\"What is your social security number? Please include digits only! \\n\")\n",
    "convert = str(ssn)\n",
    "print(\"SSN Submitted! Read as: \" + convert)"
   ]
  },
  {
   "cell_type": "markdown",
   "metadata": {
    "id": "-KGgzJWWjEMa"
   },
   "source": [
    "Input has a lot more to it, but this is a good start. Converting numbers to strings so you can display them, or converting strings to numbers so you can do math operations are a good place to get you started!"
   ]
  },
  {
   "cell_type": "code",
   "execution_count": null,
   "metadata": {},
   "outputs": [],
   "source": []
  },
  {
   "cell_type": "code",
   "execution_count": null,
   "metadata": {},
   "outputs": [],
   "source": []
  }
 ],
 "metadata": {
  "colab": {
   "authorship_tag": "ABX9TyOtSCyyzEOsBK9ZJuwS14UY",
   "collapsed_sections": [],
   "provenance": [],
   "toc_visible": true
  },
  "kernelspec": {
   "display_name": "Python 3 (ipykernel)",
   "language": "python",
   "name": "python3"
  },
  "language_info": {
   "codemirror_mode": {
    "name": "ipython",
    "version": 3
   },
   "file_extension": ".py",
   "mimetype": "text/x-python",
   "name": "python",
   "nbconvert_exporter": "python",
   "pygments_lexer": "ipython3",
   "version": "3.10.0"
  }
 },
 "nbformat": 4,
 "nbformat_minor": 1
}
