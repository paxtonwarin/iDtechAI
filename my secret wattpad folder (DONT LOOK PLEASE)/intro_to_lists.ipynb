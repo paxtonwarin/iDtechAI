{
 "cells": [
  {
   "cell_type": "markdown",
   "metadata": {
    "id": "lNVz9o8q4zBK"
   },
   "source": [
    "# Intro to Lists\n",
    "\n",
    "So far you have learned how to save data of different types into variables. If you wanted to save multiple pieces of data, you would need to create multiple variables. \n",
    "\n",
    "Luckily, python has another data type called **Lists** that allow you to store a set of values under a single variable name.\n",
    "\n",
    "1. Run the cell below to create and print a list."
   ]
  },
  {
   "cell_type": "code",
   "execution_count": null,
   "metadata": {
    "colab": {
     "base_uri": "https://localhost:8080/"
    },
    "id": "q_-TSiDv5RSg",
    "outputId": "b8a00cfb-2659-4b53-8263-77c1e1e741ad"
   },
   "outputs": [],
   "source": [
    "my_list = [3,2,6,1]\n",
    "\n",
    "print(my_list)"
   ]
  },
  {
   "cell_type": "markdown",
   "metadata": {
    "id": "1YizUvPeAujN"
   },
   "source": [
    "## Length of Lists\n",
    "\n",
    "Python has a built in function called **len()** to keep track of the length of a list.\n",
    "\n",
    "2. Run the cell below to print out the length of your list."
   ]
  },
  {
   "cell_type": "code",
   "execution_count": null,
   "metadata": {
    "colab": {
     "base_uri": "https://localhost:8080/"
    },
    "id": "CAxorMlNA9KE",
    "outputId": "29c33599-84c4-4cb3-e3ab-4f4d297a947f"
   },
   "outputs": [],
   "source": [
    "print(len(my_list))"
   ]
  },
  {
   "cell_type": "markdown",
   "metadata": {
    "id": "Wig7yv4m-teO"
   },
   "source": [
    "## Individual Elements\n",
    "\n",
    "If you want to look at a single element of a list, you can reference it using its index. The index of an element in a list is its location. Indices in a list start at 0. \n",
    "\n",
    "1. Run the cell below to see the first element of a list printed out."
   ]
  },
  {
   "cell_type": "code",
   "execution_count": 4,
   "metadata": {
    "colab": {
     "base_uri": "https://localhost:8080/"
    },
    "id": "dACQfWpl_DmC",
    "outputId": "809acb5f-feaa-40b6-f4e5-bfe6a56882b6"
   },
   "outputs": [
    {
     "name": "stdout",
     "output_type": "stream",
     "text": [
      "6\n"
     ]
    }
   ],
   "source": [
    "my_list = [3,2,6,1]\n",
    "\n",
    "print(my_list[2])"
   ]
  },
  {
   "cell_type": "markdown",
   "metadata": {
    "id": "nDfLPzYo_Vm5"
   },
   "source": [
    "### Try This! \n",
    "\n",
    "Can you print out the third element in the list?\n"
   ]
  },
  {
   "cell_type": "code",
   "execution_count": 5,
   "metadata": {
    "colab": {
     "base_uri": "https://localhost:8080/"
    },
    "id": "HjKfortm_ZFL",
    "outputId": "75bbfadb-4552-43b8-e25f-1ce724083d92"
   },
   "outputs": [
    {
     "name": "stdout",
     "output_type": "stream",
     "text": [
      "6\n"
     ]
    }
   ],
   "source": [
    "my_list = [3,2,6,1]\n",
    "\n",
    "print(my_list[2])"
   ]
  },
  {
   "cell_type": "markdown",
   "metadata": {
    "id": "0NdA49S7_JKK"
   },
   "source": [
    "What if you wanted to edit the data in a list? Let's say you want to change the third element into the number 8. How would you do it? "
   ]
  },
  {
   "cell_type": "code",
   "execution_count": 6,
   "metadata": {
    "colab": {
     "base_uri": "https://localhost:8080/"
    },
    "id": "fXbMPGqQ_dfl",
    "outputId": "df1db574-d18a-40f6-85d1-d8f3b1ba7dc0"
   },
   "outputs": [
    {
     "name": "stdout",
     "output_type": "stream",
     "text": [
      "[3, 2, 8, 1]\n"
     ]
    }
   ],
   "source": [
    "# Update the third element\n",
    "my_list[2] = 8\n",
    "# Print the list\n",
    "print(my_list)"
   ]
  },
  {
   "cell_type": "markdown",
   "metadata": {
    "id": "jATf-RLq_iko"
   },
   "source": [
    "Remember the indices of a list start at 0 so the third element is at index 2.\n",
    "\n",
    "### Try This!\n",
    "1. Can you update the last element of your list to the number 7?\n"
   ]
  },
  {
   "cell_type": "code",
   "execution_count": 7,
   "metadata": {
    "id": "obAK3Rah_v0O"
   },
   "outputs": [
    {
     "name": "stdout",
     "output_type": "stream",
     "text": [
      "[3, 2, 6, 7]\n"
     ]
    }
   ],
   "source": [
    "my_list = [3,2,6,1]\n",
    "my_list[3] = 7\n",
    "# Print the list\n",
    "print(my_list)"
   ]
  },
  {
   "cell_type": "markdown",
   "metadata": {
    "id": "skKLwK-W_6TU"
   },
   "source": [
    "## Looping Through a List\n",
    "\n",
    "Imagine that you have a list of cookies that you and a group of friends have eaten. \n",
    "\n",
    "Then, you hand everyone a cookie and they eat it. You would need to add one to each person's cookie count. How would you do this? \n",
    "\n",
    "You can create a for loop to go through each element in the list, and add one. \n",
    "\n",
    "note: in this for loop, you will use the **len()** function to get the length of the list. \n",
    "\n",
    "1. Run the code cell below to see it in action."
   ]
  },
  {
   "cell_type": "code",
   "execution_count": 8,
   "metadata": {
    "colab": {
     "base_uri": "https://localhost:8080/"
    },
    "id": "OKwPClh-AMv8",
    "outputId": "b461c5a3-5863-4733-b4e5-c0b5f24bedf2"
   },
   "outputs": [
    {
     "name": "stdout",
     "output_type": "stream",
     "text": [
      "Original Cookie Count:  [2, 3, 1, 5, 10]\n",
      "Updated Cookie Count:  [3, 4, 2, 6, 11]\n"
     ]
    }
   ],
   "source": [
    "# Create the cookie count list\n",
    "cookie_count = [2, 3, 1, 5, 10]\n",
    "# Print the cookie count list\n",
    "print(\"Original Cookie Count: \", cookie_count)\n",
    "\n",
    "# Loop through the list \n",
    "for x in range(len(cookie_count)):\n",
    "  # Add one to the element at index x\n",
    "  cookie_count[x] += 1\n",
    "# Print the updated list\n",
    "print(\"Updated Cookie Count: \", cookie_count)\n"
   ]
  },
  {
   "cell_type": "markdown",
   "metadata": {
    "id": "rT_c62ahBVSg"
   },
   "source": [
    "For loops are especially useful when you want to look at each element in a list, and do something to it.\n",
    "\n",
    "### Try This! \n",
    "\n",
    "Can you make a for loop that adds two to each element in a list? \n",
    "\n",
    "\n",
    "<details>\n",
    "<summary> Click this for final code </summary>\n",
    "\n",
    "```\n",
    "# Create the cookie count list\n",
    "cookie_count = [2, 3, 1, 5, 10]\n",
    "# Print the cookie count list\n",
    "print(\"Original Cookie Count: \", cookie_count)\n",
    "\n",
    "# Loop through the list \n",
    "for x in range(len(cookie_count)):\n",
    "  # Add one to the element at index x\n",
    "  cookie_count[x] += 2\n",
    "# Print the updated list\n",
    "print(\"Updated Cookie Count: \", cookie_count)\n",
    "\n",
    "\n",
    "```\n",
    "\n",
    "\n",
    "</details>"
   ]
  },
  {
   "cell_type": "code",
   "execution_count": 10,
   "metadata": {
    "colab": {
     "base_uri": "https://localhost:8080/"
    },
    "id": "vo-EyCkjBiGd",
    "outputId": "7376abeb-06f3-49b0-cb67-96debf72e8a5"
   },
   "outputs": [
    {
     "name": "stdout",
     "output_type": "stream",
     "text": [
      "Original coke Count:  [3, 5, 7, 9, 11]\n",
      "Updated coke Count:  [5, 7, 9, 11, 13]\n"
     ]
    }
   ],
   "source": [
    "coke_count = [3, 5, 7, 9, 11]\n",
    "print(\"Original coke Count: \", coke_count)\n",
    "\n",
    "for x in range(len(cookie_count)):\n",
    "  # Add one to the element at index x\n",
    "  coke_count[x] += 2\n",
    "print(\"Updated coke Count: \", coke_count)"
   ]
  },
  {
   "cell_type": "markdown",
   "metadata": {
    "id": "7iYD6_jH6fGM"
   },
   "source": [
    "## Python For Loop Tricks\n",
    "\n",
    "If you have some data saved to a list, you can easily step through it. For example, look at this list of fruits and how you can loop through it. \n"
   ]
  },
  {
   "cell_type": "code",
   "execution_count": 11,
   "metadata": {
    "colab": {
     "base_uri": "https://localhost:8080/"
    },
    "id": "mC3f8cBI7g-c",
    "outputId": "1438780e-a9a5-4950-d375-82e8471a82c1"
   },
   "outputs": [
    {
     "name": "stdout",
     "output_type": "stream",
     "text": [
      "the fruit is apple\n",
      "the fruit is orange\n",
      "the fruit is banana\n",
      "the fruit is grape\n"
     ]
    }
   ],
   "source": [
    "fruits = ['apple', 'orange', 'banana', 'grape']\n",
    "\n",
    "for fruit in fruits:\n",
    "  print(\"the fruit is \" + fruit)"
   ]
  },
  {
   "cell_type": "markdown",
   "metadata": {
    "id": "n-5lonpy8P7K"
   },
   "source": [
    "Instead of using the for x in range format, you can step through any data type using this kind of for loop.\n"
   ]
  },
  {
   "cell_type": "markdown",
   "metadata": {
    "id": "SlnxAwKUCu7j"
   },
   "source": [
    "## Conditionals and Loops \n",
    "\n",
    "There are also some useful conditionals that can be used with lists and for loops. \n",
    "\n",
    "One such conditional is ```in``` . You can use this to check if an element is in a list. \n",
    "\n",
    " 1. Run the cell below to see a demonstration"
   ]
  },
  {
   "cell_type": "code",
   "execution_count": 12,
   "metadata": {
    "colab": {
     "base_uri": "https://localhost:8080/"
    },
    "id": "EiCfs9F2CMxy",
    "outputId": "e304241b-f8b0-4f41-8b95-95b47b753a6c"
   },
   "outputs": [
    {
     "name": "stdout",
     "output_type": "stream",
     "text": [
      "True\n",
      "False\n"
     ]
    }
   ],
   "source": [
    "print('apple' in fruits)\n",
    "\n",
    "print('tomato' in fruits)"
   ]
  },
  {
   "cell_type": "markdown",
   "metadata": {
    "id": "j8Jcc6SPCcaj"
   },
   "source": [
    "You can use this condition to check if elements are present in a list. \n",
    "\n",
    "### Try this!\n",
    "\n",
    "Can you figure out which elements in the vegetable list do not belong? "
   ]
  },
  {
   "cell_type": "code",
   "execution_count": 13,
   "metadata": {
    "colab": {
     "base_uri": "https://localhost:8080/"
    },
    "id": "lce43JgHEekJ",
    "outputId": "ca5e1b06-9ca1-45d8-fb05-1a0909d5d9b5"
   },
   "outputs": [
    {
     "name": "stdout",
     "output_type": "stream",
     "text": [
      "banana is not a vegetable\n"
     ]
    }
   ],
   "source": [
    "veggies = ['broccoli', 'lettuce', 'banana', 'potato', 'squash']\n",
    "# Add your code to check which elements do not belong\n",
    "for veggie in veggies:\n",
    "  if veggie in fruits:\n",
    "    print(veggie + \" is not a vegetable\")"
   ]
  },
  {
   "cell_type": "markdown",
   "metadata": {
    "id": "8YIdndFZErDe"
   },
   "source": [
    "<details>\n",
    "<summary> Click this for an example </summary>\n",
    "\n",
    "```\n",
    "for veggie in veggies:\n",
    "  if veggie in fruits:\n",
    "    print(veggie + \" is not a vegetable\")\n",
    "\n",
    "\n",
    "```\n",
    "\n",
    "\n",
    "</details>"
   ]
  }
 ],
 "metadata": {
  "colab": {
   "collapsed_sections": [],
   "provenance": [],
   "toc_visible": true
  },
  "kernelspec": {
   "display_name": "Python 3 (ipykernel)",
   "language": "python",
   "name": "python3"
  },
  "language_info": {
   "codemirror_mode": {
    "name": "ipython",
    "version": 3
   },
   "file_extension": ".py",
   "mimetype": "text/x-python",
   "name": "python",
   "nbconvert_exporter": "python",
   "pygments_lexer": "ipython3",
   "version": "3.10.0"
  }
 },
 "nbformat": 4,
 "nbformat_minor": 1
}
