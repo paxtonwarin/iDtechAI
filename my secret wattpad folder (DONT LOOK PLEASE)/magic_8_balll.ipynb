{
 "cells": [
  {
   "cell_type": "markdown",
   "metadata": {
    "id": "PGi8R4ZNr5VW"
   },
   "source": [
    "\n",
    "# Magic 8-Ball Challenge\n",
    "\n",
    "In this notebook, write code that generates a random number. Using that random number, pick a fortune to give the user. \n"
   ]
  },
  {
   "cell_type": "code",
   "execution_count": null,
   "metadata": {
    "id": "-NVtgvEcr4w8"
   },
   "outputs": [],
   "source": [
    "# Add code here\n"
   ]
  }
 ],
 "metadata": {
  "colab": {
   "authorship_tag": "ABX9TyNNykO/dQtRMDNUbcjK/w4n",
   "collapsed_sections": [],
   "name": "magic_8_balll.ipynb",
   "provenance": []
  },
  "kernelspec": {
   "display_name": "Python 3 (ipykernel)",
   "language": "python",
   "name": "python3"
  },
  "language_info": {
   "codemirror_mode": {
    "name": "ipython",
    "version": 3
   },
   "file_extension": ".py",
   "mimetype": "text/x-python",
   "name": "python",
   "nbconvert_exporter": "python",
   "pygments_lexer": "ipython3",
   "version": "3.9.7"
  }
 },
 "nbformat": 4,
 "nbformat_minor": 1
}
