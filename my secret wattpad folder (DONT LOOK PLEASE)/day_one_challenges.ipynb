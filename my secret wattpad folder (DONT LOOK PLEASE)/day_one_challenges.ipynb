{
 "cells": [
  {
   "cell_type": "markdown",
   "metadata": {
    "id": "OsHtrTBKr2Qa"
   },
   "source": [
    "# Challenges\n",
    "\n",
    "If you already have some experience with coding, run through this notebook to test your knowledge. \n",
    "\n",
    "## Challenge 1\n",
    "\n",
    "1. Create a calculator program. Take two numbers from the user and add them together. \n",
    "\n",
    "Bonus Add ons\n",
    "\n",
    "* Let the user decide what operation to perform \n",
    "* Add a loop so that the game can be played until an exit key is pressed \n",
    "* Add more complex functions to the calculator like exponents\n"
   ]
  },
  {
   "cell_type": "code",
   "execution_count": null,
   "metadata": {
    "id": "cSb53LhZR6wQ"
   },
   "outputs": [],
   "source": [
    "# Write your calculator here\n"
   ]
  },
  {
   "cell_type": "markdown",
   "metadata": {
    "id": "8IS0BdN1ST9p"
   },
   "source": [
    "## Challenge 2 \n",
    "\n",
    "1. Open the link [here](https://projecteuler.net/archives)\n",
    "2. Complete as many of the challenges as you can. \n",
    "\n",
    "Optionally, you can create an account to check your answers. \n",
    "\n",
    "This is a really good thing to use to demonstrate your ability to create effecient algorithms. Feel free to create your own notebook and add explanations for each challenge that you complete. \n",
    "\n"
   ]
  },
  {
   "cell_type": "code",
   "execution_count": null,
   "metadata": {
    "id": "nK4vdmmHrzCY"
   },
   "outputs": [],
   "source": [
    "# Euler Problem 1\n",
    "\n"
   ]
  },
  {
   "cell_type": "markdown",
   "metadata": {
    "id": "hv7BjUzpGOHF"
   },
   "source": [
    "Feel free to also create anything else that is interesting to you. \n"
   ]
  },
  {
   "cell_type": "code",
   "execution_count": null,
   "metadata": {
    "id": "r4RHwM1WHALL"
   },
   "outputs": [],
   "source": []
  }
 ],
 "metadata": {
  "colab": {
   "provenance": []
  },
  "kernelspec": {
   "display_name": "Python 3 (ipykernel)",
   "language": "python",
   "name": "python3"
  },
  "language_info": {
   "codemirror_mode": {
    "name": "ipython",
    "version": 3
   },
   "file_extension": ".py",
   "mimetype": "text/x-python",
   "name": "python",
   "nbconvert_exporter": "python",
   "pygments_lexer": "ipython3",
   "version": "3.10.0"
  }
 },
 "nbformat": 4,
 "nbformat_minor": 1
}
