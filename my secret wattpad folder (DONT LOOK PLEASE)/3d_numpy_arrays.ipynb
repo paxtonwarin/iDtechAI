{
 "cells": [
  {
   "cell_type": "code",
   "execution_count": 5,
   "id": "8cce8557",
   "metadata": {},
   "outputs": [
    {
     "name": "stdout",
     "output_type": "stream",
     "text": [
      "[[[1. 1. 1. 1.]\n",
      "  [1. 1. 1. 1.]\n",
      "  [1. 1. 1. 1.]]\n",
      "\n",
      " [[1. 1. 1. 1.]\n",
      "  [1. 1. 1. 1.]\n",
      "  [1. 1. 1. 1.]]]\n"
     ]
    }
   ],
   "source": [
    "#challenge 1\n",
    "import numpy as np\n",
    "\n",
    "threedimensionalarray = np.ones((2, 3, 4))\n",
    "\n",
    "print(threedimensionalarray)"
   ]
  },
  {
   "cell_type": "code",
   "execution_count": 10,
   "id": "8050f611",
   "metadata": {},
   "outputs": [
    {
     "ename": "IndexError",
     "evalue": "only integers, slices (`:`), ellipsis (`...`), numpy.newaxis (`None`) and integer or boolean arrays are valid indices",
     "output_type": "error",
     "traceback": [
      "\u001b[1;31m---------------------------------------------------------------------------\u001b[0m",
      "\u001b[1;31mIndexError\u001b[0m                                Traceback (most recent call last)",
      "Cell \u001b[1;32mIn[10], line 12\u001b[0m\n\u001b[0;32m     10\u001b[0m \u001b[38;5;28;01mwhile\u001b[39;00m length_ordered \u001b[38;5;241m!=\u001b[39m target_number:\n\u001b[0;32m     11\u001b[0m     midpoint \u001b[38;5;241m=\u001b[39m \u001b[38;5;28mlen\u001b[39m(numbers_ordered) \u001b[38;5;241m/\u001b[39m \u001b[38;5;241m2\u001b[39m\n\u001b[1;32m---> 12\u001b[0m     \u001b[38;5;28;01mif\u001b[39;00m \u001b[43mnumbers_ordered\u001b[49m\u001b[43m[\u001b[49m\u001b[43mmidpoint\u001b[49m\u001b[43m]\u001b[49m \u001b[38;5;241m==\u001b[39m target_number:\n\u001b[0;32m     13\u001b[0m         \u001b[38;5;28mprint\u001b[39m(midpoint)\n\u001b[0;32m     14\u001b[0m     \u001b[38;5;28;01melif\u001b[39;00m numbers_ordered[midpoint] \u001b[38;5;241m>\u001b[39m target_number:\n",
      "\u001b[1;31mIndexError\u001b[0m: only integers, slices (`:`), ellipsis (`...`), numpy.newaxis (`None`) and integer or boolean arrays are valid indices"
     ]
    }
   ],
   "source": [
    "# make a list of a bunch of numbers in sorted order (chatgpt) \n",
    "import numpy as np\n",
    "\n",
    "numbers_unordered = [68, 6, 3, 77, 13, 20, 22, 66, 40, 67, 87, 70, 7, 61, 36, 21, 86, 38, 83, 45, 24, 74, 62, 51, 15, 90, 25, 58, 27, 37, 55, 46, 80, 32, 88, 54, 75, 34, 82, 79, 96, 50, 64, 59, 93, 72, 94, 63, 18, 16, 49, 58, 11, 64, 95, 57, 23, 9, 62, 35, 88, 99, 22, 80, 75, 55, 37, 44, 61, 27, 39, 73, 47, 38, 45, 54, 2, 53, 42, 6, 4, 79, 12, 85, 76, 83, 63, 77, 67, 3, 21, 68, 19, 87, 78, 89, 50, 25, 66, 46]\n",
    "numbers_ordered = np.sort(numbers_unordered)\n",
    "target_number = 7\n",
    "length_ordered = len(numbers_ordered)\n",
    "\n",
    "\n",
    "while length_ordered != target_number:\n",
    "    midpoint = len(numbers_ordered) / 2\n",
    "    if numbers_ordered[midpoint] == target_number:\n",
    "        print(midpoint)\n",
    "    elif numbers_ordered[midpoint] > target_number:\n",
    "        numbers_ordered = numbers_ordered[:midpoint] # start to half\n",
    "        print(\"wwrong\")\n",
    "    elif numbers_ordered[midpoint] < target_number:\n",
    "        numbers_ordered = numbers_ordered[midpoint:] # half to end\n",
    "        print(\"wwrong\")"
   ]
  },
  {
   "cell_type": "code",
   "execution_count": null,
   "id": "b23ccb0d",
   "metadata": {},
   "outputs": [],
   "source": []
  }
 ],
 "metadata": {
  "kernelspec": {
   "display_name": "Python 3 (ipykernel)",
   "language": "python",
   "name": "python3"
  },
  "language_info": {
   "codemirror_mode": {
    "name": "ipython",
    "version": 3
   },
   "file_extension": ".py",
   "mimetype": "text/x-python",
   "name": "python",
   "nbconvert_exporter": "python",
   "pygments_lexer": "ipython3",
   "version": "3.10.0"
  }
 },
 "nbformat": 4,
 "nbformat_minor": 5
}
