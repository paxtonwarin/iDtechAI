{
 "cells": [
  {
   "cell_type": "markdown",
   "metadata": {
    "id": "57v3TxY5YkTh"
   },
   "source": [
    "# Intro to Variables #\n",
    " <img src = \"https://i.imgur.com/tbQIc9Z.png\" width = 200px align=\"right\" margin=30px>\n",
    "\n",
    "\n",
    "**Variables** are like boxes; they hold important information, or data. A variable can hold different data types, such as numbers or words.\n",
    "\n",
    "Let's say you wanted to keep track of the amount of donuts that a pig has eaten. You could create a variable called **number_of_dounts**.\n",
    "\n",
    "\n",
    "\n",
    "After naming a variable, you can give it a value, which is like filling the chest. This is called **initializing**.\n",
    "\n",
    "If your pig has eaten three donuts then you would initialize your number_of_donuts variable to three, like in the cell below. \n",
    "\n",
    "1. Run the cell to initialize your variable. "
   ]
  },
  {
   "cell_type": "code",
   "execution_count": null,
   "metadata": {
    "id": "LrasHDjTTTfR"
   },
   "outputs": [],
   "source": [
    "number_of_donuts = 3"
   ]
  },
  {
   "cell_type": "markdown",
   "metadata": {
    "id": "JxKoNFg6ZP7t"
   },
   "source": [
    "In order to see what is in the variable called number_of_donuts, you will need to print it. \n",
    "\n",
    "In Python, in order to print a variable, you use the print function. \n",
    "\n",
    "2. Run the cell below to print out the contents of number_of_donuts."
   ]
  },
  {
   "cell_type": "code",
   "execution_count": null,
   "metadata": {
    "id": "iq6mnhdvZidZ"
   },
   "outputs": [],
   "source": [
    "print(number_of_donuts)"
   ]
  },
  {
   "cell_type": "markdown",
   "metadata": {
    "id": "EtklKNP2ZhwG"
   },
   "source": [
    "3. Try changing the number of donuts in the cell below"
   ]
  },
  {
   "cell_type": "code",
   "execution_count": null,
   "metadata": {
    "id": "LAepVdUpZ1OX"
   },
   "outputs": [],
   "source": [
    "# Change the value of the number of donuts here\n",
    "number_of_donuts = 63\n",
    "# Add code to print the updated number of donuts\n"
   ]
  },
  {
   "cell_type": "markdown",
   "metadata": {
    "id": "IU873SdEaGsl"
   },
   "source": [
    "## Other Variable Types ##\n",
    "\n",
    "A whole number in python is called an **int** short for integer. There are a lot of other variable types, but for now we are going to focus on two other common ones: Strings and booleans. \n",
    "\n",
    "### Strings \n",
    "\n",
    "Variables can hold data besides numbers, including words. Programmers refer to variables holding words as **strings**.\n",
    "\n",
    "Create a string variable to hold the pigs name below. Python will make it's best guess about what kind of variable you are making based on what the value is. \n",
    "\n",
    "1. Run the cell to see what the pigs name is. "
   ]
  },
  {
   "cell_type": "code",
   "execution_count": null,
   "metadata": {
    "id": "DPn1oKdmaonr"
   },
   "outputs": [],
   "source": [
    "# Create a string variable to keep track of the pigs name\n",
    "pig_name = \"Kepler\" \n",
    "# Print the pig's name\n",
    "print(pig_name) "
   ]
  },
  {
   "cell_type": "markdown",
   "metadata": {
    "id": "SqvPbHXIa8-J"
   },
   "source": [
    "2. Try changing the pigs name to something you choose and then print it out below."
   ]
  },
  {
   "cell_type": "code",
   "execution_count": null,
   "metadata": {
    "id": "DPeDg6fxbBRy"
   },
   "outputs": [],
   "source": [
    "# Update the pig's name \n",
    "pig_name = \"Kepler's Wife\" \n",
    "# Print out the pig's updated name\n",
    "print(pig_name)"
   ]
  },
  {
   "cell_type": "markdown",
   "metadata": {},
   "source": [
    "## Escape Characters\n",
    "\n",
    "These characters can be used to help format string output.\n",
    "\n",
    "1. Run the cell to see how different escape characters change the format of the text."
   ]
  },
  {
   "cell_type": "code",
   "execution_count": null,
   "metadata": {},
   "outputs": [],
   "source": [
    "print(\"\\nthis will print on the next line\")\n",
    "print(\"\\tthis is tabbed in\")\n",
    "print(\"\\\"this will put quotation marks in your string\\\"\")"
   ]
  },
  {
   "cell_type": "markdown",
   "metadata": {
    "id": "K2F9lYG3bIqN"
   },
   "source": [
    "### Booleans \n",
    "\n",
    "You can also use variables to show if something is true or false; this type of data is called a boolean.\n",
    "\n",
    "In the cell below create a variable to keep track of if donuts exist"
   ]
  },
  {
   "cell_type": "code",
   "execution_count": null,
   "metadata": {
    "id": "IfQZXzLabaph"
   },
   "outputs": [],
   "source": [
    "# Create the variable for donuts exist\n",
    "donuts_exist = True\n",
    "# Print the value of donuts exist\n",
    "print(donuts_exist)"
   ]
  },
  {
   "cell_type": "markdown",
   "metadata": {
    "id": "b1eBCRctbn0k"
   },
   "source": [
    "Let's pretend the pig ate all the donuts. Can you update the donuts_exist variable to False?"
   ]
  },
  {
   "cell_type": "code",
   "execution_count": null,
   "metadata": {
    "id": "QiKrs42RbujX"
   },
   "outputs": [],
   "source": [
    "# Update and print out the donuts_exist variable.\n",
    "donuts_exist = False\n",
    "# See what donuts_exist equals now\n",
    "print(donuts_exist)"
   ]
  },
  {
   "cell_type": "markdown",
   "metadata": {
    "id": "PG0rRJYTbzhS"
   },
   "source": [
    "### Now it's your turn! ### \n",
    "\n",
    "\n",
    "Create a short program that uses three variables to keep track of some information. For example create variables to keep track of your favorite superhero's name, age, and if they are immortal or not. "
   ]
  },
  {
   "cell_type": "code",
   "execution_count": 4,
   "metadata": {
    "id": "DIGdw8iDcLE1"
   },
   "outputs": [
    {
     "name": "stdout",
     "output_type": "stream",
     "text": [
      "Age: 25 Name: Kevin Immortality Status: True\n"
     ]
    }
   ],
   "source": [
    "# Create your program here:\n",
    "\n",
    "superheroAge = \"25\"\n",
    "superheroName = \"Kevin\"\n",
    "superheroImmortality = True\n",
    "\n",
    "superheroInfo = \"Age: \" + str(superheroAge) + \" Name: \" + str(superheroName) + \" Immortality Status: \" + str(superheroImmortality)\n",
    "\n",
    "print(superheroInfo)"
   ]
  },
  {
   "cell_type": "code",
   "execution_count": null,
   "metadata": {},
   "outputs": [],
   "source": []
  }
 ],
 "metadata": {
  "colab": {
   "collapsed_sections": [],
   "provenance": []
  },
  "kernelspec": {
   "display_name": "Python 3 (ipykernel)",
   "language": "python",
   "name": "python3"
  },
  "language_info": {
   "codemirror_mode": {
    "name": "ipython",
    "version": 3
   },
   "file_extension": ".py",
   "mimetype": "text/x-python",
   "name": "python",
   "nbconvert_exporter": "python",
   "pygments_lexer": "ipython3",
   "version": "3.10.0"
  }
 },
 "nbformat": 4,
 "nbformat_minor": 1
}
