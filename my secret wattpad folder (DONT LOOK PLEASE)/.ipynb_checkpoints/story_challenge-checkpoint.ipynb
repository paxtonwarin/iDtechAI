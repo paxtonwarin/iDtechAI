{
 "cells": [
  {
   "cell_type": "markdown",
   "metadata": {
    "id": "pmgS0fuOYTwM"
   },
   "source": [
    "# Story Challenge\n",
    "\n",
    "In this notebook you will create a story that prints out to the user. You can use multiple print statements or one huge one, it's up to you! "
   ]
  },
  {
   "cell_type": "code",
   "execution_count": 1,
   "metadata": {
    "id": "uwHRylCsYDFQ"
   },
   "outputs": [
    {
     "name": "stdout",
     "output_type": "stream",
     "text": [
      "One upon a time, there was bob.\n",
      "Bob is an AI developer who works at MIT.\n",
      "He decides to quit and work at McDonalds, only to realize he is becoming homeless.\n",
      "The bank has repossessed his house and lowered his credit to a solid 220.\n",
      "Sad ending.\n"
     ]
    }
   ],
   "source": [
    "# Add your story code here:\n",
    "print(\"One upon a time, there was bob.\\nBob is an AI developer who works at MIT.\\nHe decides to quit and work at McDonalds, only to realize he is becoming homeless.\\nThe bank has repossessed his house and lowered his credit to a solid 220.\\nSad ending.\")\n"
   ]
  },
  {
   "cell_type": "markdown",
   "metadata": {
    "id": "TpoPxHD2Yr4H"
   },
   "source": [
    "### Bonus Challenge\n",
    "\n",
    "If you want to step up your story, use user input and variables to create a mad libs style project. \n",
    "\n",
    "Get some verbs, nouns, adjectives, and names from the user and insert them into your story. \n"
   ]
  },
  {
   "cell_type": "code",
   "execution_count": null,
   "metadata": {
    "id": "ySlrVAXZY_Oh"
   },
   "outputs": [],
   "source": [
    "# Get user input for the placeholder words. Make sure to save them to variables!\n",
    "\n",
    "# Print out the updated story using the input from the user.\n",
    "\n"
   ]
  },
  {
   "cell_type": "markdown",
   "metadata": {},
   "source": [
    "# Extra Password Challenge\n",
    "\n",
    "Add password protection to your story"
   ]
  },
  {
   "cell_type": "code",
   "execution_count": null,
   "metadata": {},
   "outputs": [],
   "source": []
  },
  {
   "cell_type": "markdown",
   "metadata": {
    "id": "n3cMjYJqiM_h"
   },
   "source": [
    "### Extra Bonus Challenge\n",
    "\n",
    "Create a choose your own adventure story that gets user input to choose a path through the story. Use conditionals to print different stories depending on what the user wants to do. "
   ]
  },
  {
   "cell_type": "code",
   "execution_count": null,
   "metadata": {},
   "outputs": [],
   "source": []
  }
 ],
 "metadata": {
  "colab": {
   "collapsed_sections": [],
   "provenance": []
  },
  "kernelspec": {
   "display_name": "Python 3 (ipykernel)",
   "language": "python",
   "name": "python3"
  },
  "language_info": {
   "codemirror_mode": {
    "name": "ipython",
    "version": 3
   },
   "file_extension": ".py",
   "mimetype": "text/x-python",
   "name": "python",
   "nbconvert_exporter": "python",
   "pygments_lexer": "ipython3",
   "version": "3.10.0"
  }
 },
 "nbformat": 4,
 "nbformat_minor": 1
}
