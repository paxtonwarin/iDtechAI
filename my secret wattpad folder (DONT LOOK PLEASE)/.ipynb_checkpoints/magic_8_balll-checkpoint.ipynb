{
 "cells": [
  {
   "cell_type": "markdown",
   "metadata": {
    "id": "PGi8R4ZNr5VW"
   },
   "source": [
    "\n",
    "# Magic 8-Ball Challenge\n",
    "\n",
    "In this notebook, write code that generates a random number. Using that random number, pick a fortune to give the user. \n"
   ]
  },
  {
   "cell_type": "code",
   "execution_count": 7,
   "metadata": {
    "id": "-NVtgvEcr4w8"
   },
   "outputs": [
    {
     "name": "stdout",
     "output_type": "stream",
     "text": [
      "ya won the lottery\n"
     ]
    }
   ],
   "source": [
    "import random\n",
    "\n",
    "ballnumber = random.randint(1, 8)\n",
    "\n",
    "if ballnumber == 1 or ballnumber == 2:\n",
    "    print(\"You have a bad fortune and you will die soon.\")\n",
    "elif ballnumber == 3 or ballnumber == 4:\n",
    "    print(\"You have a mid fortune. Your dad will die soon.\")\n",
    "elif ballnumber == 5 or ballnumber == 6 or ballnumber == 7:\n",
    "    print(\"You have a good fortune. You will not crash your car.\")\n",
    "elif ballnumber == 8:\n",
    "    print(\"ya won the lottery\")"
   ]
  },
  {
   "cell_type": "code",
   "execution_count": null,
   "metadata": {},
   "outputs": [],
   "source": []
  },
  {
   "cell_type": "code",
   "execution_count": null,
   "metadata": {},
   "outputs": [],
   "source": []
  },
  {
   "cell_type": "code",
   "execution_count": null,
   "metadata": {},
   "outputs": [],
   "source": []
  }
 ],
 "metadata": {
  "colab": {
   "authorship_tag": "ABX9TyNNykO/dQtRMDNUbcjK/w4n",
   "collapsed_sections": [],
   "name": "magic_8_balll.ipynb",
   "provenance": []
  },
  "kernelspec": {
   "display_name": "Python 3 (ipykernel)",
   "language": "python",
   "name": "python3"
  },
  "language_info": {
   "codemirror_mode": {
    "name": "ipython",
    "version": 3
   },
   "file_extension": ".py",
   "mimetype": "text/x-python",
   "name": "python",
   "nbconvert_exporter": "python",
   "pygments_lexer": "ipython3",
   "version": "3.10.0"
  }
 },
 "nbformat": 4,
 "nbformat_minor": 1
}
