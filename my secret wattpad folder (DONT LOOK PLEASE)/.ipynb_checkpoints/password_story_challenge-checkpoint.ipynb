{
 "cells": [
  {
   "cell_type": "code",
   "execution_count": 3,
   "id": "2047665d",
   "metadata": {},
   "outputs": [
    {
     "name": "stdout",
     "output_type": "stream",
     "text": [
      "Enter the correct password to view the spookiest story everrrrr.jdsadn\n",
      "WRONG PASSWORD! I am going to haunt you forever.\n"
     ]
    }
   ],
   "source": [
    "passwd = input(\"Enter the correct password to view the spookiest story everrrrr.\\n\")\n",
    "\n",
    "if passwd == \"spookyspook\":\n",
    "    print(\"once upon a time there was a ghost.\\nGoodbye!\")\n",
    "else:\n",
    "    print(\"WRONG PASSWORD! I am going to haunt you forever.\")"
   ]
  },
  {
   "cell_type": "code",
   "execution_count": null,
   "id": "806007f9",
   "metadata": {},
   "outputs": [],
   "source": []
  },
  {
   "cell_type": "code",
   "execution_count": null,
   "id": "40bd9c7a",
   "metadata": {},
   "outputs": [],
   "source": []
  }
 ],
 "metadata": {
  "kernelspec": {
   "display_name": "Python 3 (ipykernel)",
   "language": "python",
   "name": "python3"
  },
  "language_info": {
   "codemirror_mode": {
    "name": "ipython",
    "version": 3
   },
   "file_extension": ".py",
   "mimetype": "text/x-python",
   "name": "python",
   "nbconvert_exporter": "python",
   "pygments_lexer": "ipython3",
   "version": "3.10.0"
  }
 },
 "nbformat": 4,
 "nbformat_minor": 5
}
