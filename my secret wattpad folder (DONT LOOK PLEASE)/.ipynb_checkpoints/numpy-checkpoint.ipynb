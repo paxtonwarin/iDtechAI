{
 "cells": [
  {
   "cell_type": "markdown",
   "metadata": {
    "id": "kCY1BR3GtehN"
   },
   "source": [
    "# Libraries\n",
    "\n",
    "**Libraries** in programming languages are collections of prewritten code that users can use to optimize a task.\n",
    "\n",
    "There are countless libraries created for python, but two common ones used in Machine Learning are **Matplotlib** and **NumPy**. \n",
    "NumPy divides the data and manipulates it easily. Matplotlib visualizes data and the machine learning changes.\n",
    "\n"
   ]
  },
  {
   "cell_type": "markdown",
   "metadata": {
    "id": "es-Ykq2c6pUT"
   },
   "source": [
    "## NumPy\n",
    "\n",
    "NumPy introduces many functions that help with large datasets. **NumPy** is a library used to make very powerful arrays. \n",
    "\n",
    "Python lists can't be used because in order to apply a function, a loop is needed to go through every value in the list. A NumPy array can increase the value of all the elements at once.\n",
    "\n",
    "Remember when you were learning about lists? If you wanted to multiply each element by 2 you needed to use a for loop.\n",
    "\n",
    "For NumPy arrays, however, the elements can all be multiplied by 2 simultaneously. \n",
    "\n",
    "Machine learning uses many operations on arrays of data. These data sets often contain thousands of numbers and to iterate through every single value one at a time would be difficult and lengthy. NumPy simplifies all of this.\n",
    "\n",
    "The code below loads NumPy into your program. \n",
    "\n",
    "The NumPy library is renamed to make it quicker to access using the  as  keyword. The code above renames the library to “np;” when calling NumPy in your program, refer to it as \"np.\"\n",
    "\n",
    "1. Run the cell below to import numpy."
   ]
  },
  {
   "cell_type": "code",
   "execution_count": null,
   "metadata": {
    "id": "Yfhah6Ottatt"
   },
   "outputs": [],
   "source": [
    "import numpy as np"
   ]
  },
  {
   "cell_type": "markdown",
   "metadata": {
    "id": "NJaUyW5rup3B"
   },
   "source": [
    "2. In the cell below, add code to print out the numpy array called array."
   ]
  },
  {
   "cell_type": "code",
   "execution_count": 2,
   "metadata": {
    "id": "c-oHyNk0uz7l"
   },
   "outputs": [
    {
     "name": "stdout",
     "output_type": "stream",
     "text": [
      "[]\n"
     ]
    }
   ],
   "source": [
    "import numpy as np\n",
    "array = np.array([])\n",
    "\n",
    "# Add your code here:\n",
    "print(array)"
   ]
  },
  {
   "cell_type": "markdown",
   "metadata": {
    "id": "UNlhO8n0u8WB"
   },
   "source": [
    "The empty angled brackets ( [ ] ) represent an empty array. The starting array is going to be empty.\n",
    "\n",
    "Empty data is kinda boring, so next you'll add some values.\n",
    "\n",
    "3. Use the cell below to update your array. If you want to add different data you can. \n",
    "\n",
    "4. Print the array. "
   ]
  },
  {
   "cell_type": "code",
   "execution_count": 3,
   "metadata": {
    "id": "wgbXMY7YvCaU"
   },
   "outputs": [
    {
     "name": "stdout",
     "output_type": "stream",
     "text": [
      "[1 2 3 4]\n"
     ]
    }
   ],
   "source": [
    "import numpy as np\n",
    "array = np.array([1,2,3,4])\n",
    "\n",
    "# Add your code to print the array here:\n",
    "print (array)"
   ]
  },
  {
   "cell_type": "markdown",
   "metadata": {
    "id": "gmXaeservdea"
   },
   "source": [
    "### Shape\n",
    "\n",
    "The size of a NumPy array, also called its shape, is important for some functions you'll use for machine learning.\n",
    "\n",
    "The shape of a NumPy array reveals how many values are in each dimension of the array.\n",
    "\n",
    "Knowing the size of data tells you how many different data points exist in the array. With machine learning algorithms, these sizes must be known in order for most of the algorithms to work.\n",
    "\n",
    "1. Run the cell below to check the shape of your array."
   ]
  },
  {
   "cell_type": "code",
   "execution_count": 4,
   "metadata": {
    "id": "v1TOygSrvlkt"
   },
   "outputs": [
    {
     "name": "stdout",
     "output_type": "stream",
     "text": [
      "(4,)\n"
     ]
    }
   ],
   "source": [
    "import numpy as np\n",
    "\n",
    "print(array.shape)"
   ]
  },
  {
   "cell_type": "markdown",
   "metadata": {
    "id": "O8tLFu2ZvvNi"
   },
   "source": [
    "This calls the shape property of NumPy arrays and lets you see the size of the array.\n",
    "\n",
    "After running the code above, the output is  `(4, )` — this means there are four individual values inside the array."
   ]
  },
  {
   "cell_type": "markdown",
   "metadata": {
    "id": "kFxTumQBvzLr"
   },
   "source": [
    "### Multidimensional Arrays\n",
    "\n",
    "\n",
    "Next, you'll make this a two-dimensional array. \n",
    "\n",
    "1. Use the cell below to add a two dimensional array.\n",
    "2. Add code to print out the shape of the array."
   ]
  },
  {
   "cell_type": "code",
   "execution_count": 5,
   "metadata": {
    "id": "5yfzljh3wEog"
   },
   "outputs": [
    {
     "name": "stdout",
     "output_type": "stream",
     "text": [
      "(2, 2)\n"
     ]
    }
   ],
   "source": [
    "import numpy as np\n",
    "# Create the 2-d array\n",
    "twod_array = np.array([[1,2], [3, 4]])\n",
    "\n",
    "# Add your code to print the shape here:\n",
    "print(twod_array.shape)"
   ]
  },
  {
   "cell_type": "markdown",
   "metadata": {
    "id": "4TfK1Gk3wg3a"
   },
   "source": [
    "You've just created an array of arrays! This means your first array value is the array  `[1,2] ` and the second array value is the array  `[3,4]` . \n",
    "\n",
    "The size will be ` (2,2)` , which is read as two sets of two values. There are two array values each with two values.\n",
    "\n",
    "In the previous example, the shape was `(4, )` , which is read as just four array values."
   ]
  },
  {
   "cell_type": "markdown",
   "metadata": {
    "id": "xhM0geYnwnTl"
   },
   "source": [
    "#### Now it's your turn!\n",
    "\n",
    "Can you create an array that has shape `(3,4)`? "
   ]
  },
  {
   "cell_type": "code",
   "execution_count": 13,
   "metadata": {
    "id": "4E_Y2sb4w27s"
   },
   "outputs": [
    {
     "name": "stdout",
     "output_type": "stream",
     "text": [
      "True\n"
     ]
    }
   ],
   "source": [
    "import numpy as np\n",
    "my_array = np.array([[1, 2, 3, 4], [4, 5, 6, 3], [4, 5, 6, 3]])\n",
    "\n",
    "# Check that the shape is correct\n",
    "print(my_array.shape == (3,4))"
   ]
  },
  {
   "cell_type": "markdown",
   "metadata": {
    "id": "_MqdIohYxzUx"
   },
   "source": [
    "### Array Arithmetic\n",
    "\n",
    "Now that you can create arrays, let's see what you can do with them!\n",
    "\n",
    "1. Create two lists and fill them with all 5 ones.\n",
    "2. Run the cell to add the lists together"
   ]
  },
  {
   "cell_type": "code",
   "execution_count": 14,
   "metadata": {
    "id": "4b47eRcSyA4I"
   },
   "outputs": [
    {
     "data": {
      "text/plain": [
       "[1, 1, 1, 1, 1, 1, 1, 1, 1, 1]"
      ]
     },
     "execution_count": 14,
     "metadata": {},
     "output_type": "execute_result"
    }
   ],
   "source": [
    "# Create the lists here\n",
    "num1 = [1, 1, 1, 1, 1]\n",
    "num2 = [1, 1, 1, 1, 1]\n",
    "# Add the lists together\n",
    "num1+num2"
   ]
  },
  {
   "cell_type": "markdown",
   "metadata": {
    "id": "0HpiovvIyJ9U"
   },
   "source": [
    "You should see 10 ones print out. When adding lists, Python joins them together. \n",
    "\n",
    "Rather than extending the list, sometimes you might need to add values in the array together. In the previous example, how would you get the result ` [2, 2, 2, 2, 2]` ?\n",
    "\n",
    "To accomplish this, you'll need a for loop. You can use a for loop to access each index in the array. To loop through all the values in the array you'll need to use  `len(num1) `.\n",
    "\n",
    "You'll also need a third new array to hold the new sums. ` arrayName.append(value)  `adds value to the array.\n",
    "\n",
    "#### Try this! \n",
    "\n",
    "Can you create the for loop to add the two lists elements together? \n",
    "\n",
    "<details> <summary> Click here for an example </summary>\n",
    "    \n",
    "    \n",
    "```\n",
    "#a for loop that loops over every value in the loop based on the size of the array\n",
    "for i in range(len(num1)): \n",
    "    #add the sum of the values at the ith position of the  arrays and save them to num3\n",
    "    num3.append(num1[i] + num2[i]) \n",
    "print(num3)\n",
    "```\n",
    "    \n",
    "    </details>"
   ]
  },
  {
   "cell_type": "code",
   "execution_count": 24,
   "metadata": {
    "id": "5um3QHJXygEv"
   },
   "outputs": [
    {
     "name": "stdout",
     "output_type": "stream",
     "text": [
      "True\n"
     ]
    }
   ],
   "source": [
    "import numpy as np\n",
    "num1 = [1, 1, 1, 1, 1]\n",
    "num2 = [1, 1, 1, 1, 1]\n",
    "# Use this list to hold your solution\n",
    "num3 = [] \n",
    "# Add your code here to add the elements of the list together\n",
    "\n",
    "for i in range(len(num1)): \n",
    "    #add the sum of the values at the ith position of the  arrays and save them to num3\n",
    "    num3.append(num1[i] + num2[i]) \n",
    "print(num3 == [2, 2, 2, 2, 2])"
   ]
  },
  {
   "cell_type": "markdown",
   "metadata": {
    "id": "Xwb3TkZ3y3BZ"
   },
   "source": [
    "### Arithmetic with NumPy Arrays\n",
    "\n",
    "While this method works, NumPy arrays let you do the same thing in one line.\n",
    "\n",
    "1. Run the cell to see the same result using numpy arrays."
   ]
  },
  {
   "cell_type": "code",
   "execution_count": 26,
   "metadata": {
    "id": "n0fVRespy-mG"
   },
   "outputs": [
    {
     "name": "stdout",
     "output_type": "stream",
     "text": [
      "[2 2 2 2 2]\n"
     ]
    }
   ],
   "source": [
    "# Create two numpy arrays\n",
    "arr1 = np.array([1, 1, 1, 1, 1]) \n",
    "arr2 = np.array([1, 1, 1, 1, 1])\n",
    "# Add them together \n",
    "print(arr1 + arr2)"
   ]
  },
  {
   "cell_type": "markdown",
   "metadata": {
    "id": "arqOSSMPzGNg"
   },
   "source": [
    "You should see the array printed with values added together. As long as both numpy arrays are the same size, you can add them together this way.\n",
    "\n",
    "### Try this! \n",
    "\n",
    "Can you create two arrays and add them together?\n",
    "\n"
   ]
  },
  {
   "cell_type": "code",
   "execution_count": 27,
   "metadata": {
    "id": "9T6FrwsyzOo0"
   },
   "outputs": [
    {
     "name": "stdout",
     "output_type": "stream",
     "text": [
      "[2 2 3 2 2]\n"
     ]
    }
   ],
   "source": [
    "# Add your code here: \n",
    "arr1 = np.array([1, 1, 2, 1, 1]) \n",
    "arr2 = np.array([1, 1, 1, 1, 1])\n",
    "# Add them together \n",
    "print(arr1 + arr2)\n"
   ]
  },
  {
   "cell_type": "markdown",
   "metadata": {
    "id": "cniFIIzEzQ8N"
   },
   "source": [
    "### Other Operations\n",
    "\n",
    "The same goes for multiplication, division, and subtraction. Replacing the plus sign in the previous example gives you a new answer.\n",
    "\n",
    "#### Try this! \n",
    "\n",
    "1. Repeat your previous example using `*` instead of `+`\n"
   ]
  },
  {
   "cell_type": "code",
   "execution_count": 28,
   "metadata": {
    "id": "yCl-3DnLzg7c"
   },
   "outputs": [
    {
     "name": "stdout",
     "output_type": "stream",
     "text": [
      "[1 1 2 1 1]\n"
     ]
    }
   ],
   "source": [
    "# Add your multiplication code here:\n",
    "arr1 = np.array([1, 1, 2, 1, 1]) \n",
    "arr2 = np.array([1, 1, 1, 1, 1])\n",
    "print (arr1 * arr2)"
   ]
  },
  {
   "cell_type": "markdown",
   "metadata": {},
   "source": [
    "2. Repeat your previous example using `/` instead of `+`"
   ]
  },
  {
   "cell_type": "code",
   "execution_count": 31,
   "metadata": {},
   "outputs": [
    {
     "name": "stdout",
     "output_type": "stream",
     "text": [
      "[1. 1. 2. 1. 1.]\n"
     ]
    }
   ],
   "source": [
    "# Add your division code here:\n",
    "# Add your multiplication code here:\n",
    "arr1 = np.array([1, 1, 2, 1, 1]) \n",
    "arr2 = np.array([1, 1, 1, 1, 1])\n",
    "print (arr1 / arr2)"
   ]
  },
  {
   "cell_type": "markdown",
   "metadata": {},
   "source": [
    "3. Repeat your previous example using `-` instead of `+`"
   ]
  },
  {
   "cell_type": "code",
   "execution_count": 32,
   "metadata": {},
   "outputs": [
    {
     "name": "stdout",
     "output_type": "stream",
     "text": [
      "[0 0 1 0 0]\n"
     ]
    }
   ],
   "source": [
    "# Add your subtraction code here:\n",
    "# Add your multiplication code here:\n",
    "arr1 = np.array([1, 1, 2, 1, 1]) \n",
    "arr2 = np.array([1, 1, 1, 1, 1])\n",
    "print (arr1 - arr2)"
   ]
  },
  {
   "cell_type": "markdown",
   "metadata": {
    "id": "5zO8TNsTzmU_"
   },
   "source": [
    "### Adding a Number to an Array\n",
    "\n",
    "You can add an individual number to the other values in an array using an addition operator ( + ). \n",
    "\n",
    "1. Run the cell below to see it in action."
   ]
  },
  {
   "cell_type": "code",
   "execution_count": 33,
   "metadata": {
    "id": "M2tnbltbztc6"
   },
   "outputs": [
    {
     "name": "stdout",
     "output_type": "stream",
     "text": [
      "[ 6  7  8  9 10]\n"
     ]
    }
   ],
   "source": [
    "arr1 = np.array([1, 2, 3, 4, 5])\n",
    "\n",
    "arr2 = np.array([2, 3, 4, 5, 6])\n",
    "\n",
    "print(arr1+5)"
   ]
  },
  {
   "cell_type": "markdown",
   "metadata": {
    "id": "7w14Eg4azwZT"
   },
   "source": [
    "As you can see, you can use the + operator to combine two regular python lists into a single list. Numpy arrays let you use the + operator to add two same-size arrays together, adding each element in matching locations together. Using the + operator with a Numpy array and a single value will add that value to every element in the array."
   ]
  }
 ],
 "metadata": {
  "colab": {
   "collapsed_sections": [],
   "provenance": [],
   "toc_visible": true
  },
  "kernelspec": {
   "display_name": "Python 3 (ipykernel)",
   "language": "python",
   "name": "python3"
  },
  "language_info": {
   "codemirror_mode": {
    "name": "ipython",
    "version": 3
   },
   "file_extension": ".py",
   "mimetype": "text/x-python",
   "name": "python",
   "nbconvert_exporter": "python",
   "pygments_lexer": "ipython3",
   "version": "3.10.0"
  }
 },
 "nbformat": 4,
 "nbformat_minor": 1
}
