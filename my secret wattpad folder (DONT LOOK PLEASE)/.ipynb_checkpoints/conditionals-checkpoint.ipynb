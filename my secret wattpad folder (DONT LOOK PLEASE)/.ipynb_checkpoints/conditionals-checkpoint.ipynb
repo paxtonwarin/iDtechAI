{
 "cells": [
  {
   "cell_type": "markdown",
   "metadata": {
    "id": "CmsisSamjUbj"
   },
   "source": [
    "# If Statements\n",
    "\n",
    "An **if statement** runs a block of code based on whether or not a condition is true.\n",
    "\n",
    "1. Run the cell below to see it in action."
   ]
  },
  {
   "cell_type": "code",
   "execution_count": 1,
   "metadata": {
    "colab": {
     "base_uri": "https://localhost:8080/"
    },
    "executionInfo": {
     "elapsed": 6,
     "status": "ok",
     "timestamp": 1689016460503,
     "user": {
      "displayName": "Charlotte Coffin",
      "userId": "18004609820655012871"
     },
     "user_tz": 420
    },
    "id": "DBFxGRpljSeV",
    "outputId": "5871498a-e23a-4721-e221-4c7b890e482f"
   },
   "outputs": [
    {
     "name": "stdout",
     "output_type": "stream",
     "text": [
      "a is greater than b\n"
     ]
    }
   ],
   "source": [
    "#  Create two variables below.\n",
    "a = 3\n",
    "b = 6\n",
    "# Add an if statement\n",
    "if a > b:\n",
    "  print(\"a is greater than b\")"
   ]
  },
  {
   "cell_type": "markdown",
   "metadata": {
    "id": "wGcs9inAj2TD"
   },
   "source": [
    "2. Swap the values so a is 3 and b is 6."
   ]
  },
  {
   "cell_type": "code",
   "execution_count": 3,
   "metadata": {
    "executionInfo": {
     "elapsed": 299,
     "status": "ok",
     "timestamp": 1689016468500,
     "user": {
      "displayName": "Charlotte Coffin",
      "userId": "18004609820655012871"
     },
     "user_tz": 420
    },
    "id": "muD5Yflvj7BF"
   },
   "outputs": [],
   "source": [
    "# Swap the values here.\n",
    "a = 3\n",
    "b = 6\n",
    "# Add an if statement\n",
    "if a > b:\n",
    "  print(\"a is greater than b\")"
   ]
  },
  {
   "cell_type": "markdown",
   "metadata": {
    "id": "7no_AKdFj-vf"
   },
   "source": [
    "**What differences did you notice between both outputs?**\n",
    "\n",
    "If statements only run if the condition is true, so the above statement only runs when a is greater than b."
   ]
  },
  {
   "cell_type": "markdown",
   "metadata": {
    "id": "3wAfAHK_kGE6"
   },
   "source": [
    "## Indentation ##\n",
    "\n",
    "In Python, indentation is how code relationships are shown. Anything indented from the line above it is part of the same statement.\n",
    "\n",
    "1. Try running the cell below. You should see 2 printed to the screen."
   ]
  },
  {
   "cell_type": "code",
   "execution_count": 4,
   "metadata": {
    "colab": {
     "base_uri": "https://localhost:8080/"
    },
    "executionInfo": {
     "elapsed": 242,
     "status": "ok",
     "timestamp": 1689016477449,
     "user": {
      "displayName": "Charlotte Coffin",
      "userId": "18004609820655012871"
     },
     "user_tz": 420
    },
    "id": "u1cqIpwFkN0O",
    "outputId": "fdf30d2d-4e50-46f6-a7d0-27b7494c221f"
   },
   "outputs": [
    {
     "name": "stdout",
     "output_type": "stream",
     "text": [
      "2\n"
     ]
    }
   ],
   "source": [
    "x = 2\n",
    "print(x)\n",
    "if x > 3:\n",
    "  x += 2\n",
    "  print(x)"
   ]
  },
  {
   "cell_type": "markdown",
   "metadata": {
    "id": "i5uB0259kUUZ"
   },
   "source": [
    "2. Now run the same code indented slightly differently."
   ]
  },
  {
   "cell_type": "code",
   "execution_count": 5,
   "metadata": {
    "colab": {
     "base_uri": "https://localhost:8080/"
    },
    "executionInfo": {
     "elapsed": 620,
     "status": "ok",
     "timestamp": 1689016480815,
     "user": {
      "displayName": "Charlotte Coffin",
      "userId": "18004609820655012871"
     },
     "user_tz": 420
    },
    "id": "hKt7DuFJkia4",
    "outputId": "6fed745d-9951-4721-d25a-6b683016dc5b"
   },
   "outputs": [
    {
     "name": "stdout",
     "output_type": "stream",
     "text": [
      "2\n",
      "2\n"
     ]
    }
   ],
   "source": [
    "x = 2\n",
    "print(x)\n",
    "if x > 3:\n",
    "  x += 2\n",
    "print(x)"
   ]
  },
  {
   "cell_type": "markdown",
   "metadata": {
    "id": "PmKoCVt9k0q6"
   },
   "source": [
    "You can see that if it is indented, it is included in the if statement, and if it isn't it isn't affected by the if statement.\n",
    "\n",
    "1. Can you fix the code below so that the output is:\n",
    "\n",
    "\n",
    "```\n",
    "Lizards\n",
    "are\n",
    "cool\n",
    "```\n",
    "\n"
   ]
  },
  {
   "cell_type": "code",
   "execution_count": 5,
   "metadata": {
    "id": "3kzswG51lZBb"
   },
   "outputs": [
    {
     "name": "stdout",
     "output_type": "stream",
     "text": [
      "Lizards \n",
      "are \n",
      "cool\n"
     ]
    }
   ],
   "source": [
    "z = 1\n",
    "y = 4\n",
    "\n",
    "print(\"Lizards \")\n",
    "print(\"are \")\n",
    "if y > 4:\n",
    "  y+=1\n",
    "  print(\"not \")\n",
    "print(\"cool\")\n"
   ]
  },
  {
   "cell_type": "markdown",
   "metadata": {
    "id": "e0jGVqWEl5br"
   },
   "source": [
    "## Boolean Values\n",
    "\n",
    "Remember that a boolean value is either true or false.\n",
    "\n",
    "1. Run the cell below."
   ]
  },
  {
   "cell_type": "code",
   "execution_count": null,
   "metadata": {
    "id": "OR4RsisKmCH2"
   },
   "outputs": [],
   "source": [
    "# Create a variable called has_key\n",
    "has_key = True"
   ]
  },
  {
   "cell_type": "markdown",
   "metadata": {
    "id": "u3aRScC4mLcr"
   },
   "source": [
    "2. Add an if statement to let the player know they won if they have the key"
   ]
  },
  {
   "cell_type": "code",
   "execution_count": 7,
   "metadata": {
    "id": "EqtbESXImRF1"
   },
   "outputs": [
    {
     "name": "stdout",
     "output_type": "stream",
     "text": [
      "You won! Unlock the door!\n"
     ]
    }
   ],
   "source": [
    "has_key = True\n",
    "if has_key == True:\n",
    "  print(\"You won! Unlock the door!\")"
   ]
  },
  {
   "cell_type": "markdown",
   "metadata": {
    "id": "brcDxgdLmWV4"
   },
   "source": [
    "Can you make an if statement letting the player know they lost if they do not have the key?\n",
    "\n",
    "3. Add the code below"
   ]
  },
  {
   "cell_type": "code",
   "execution_count": 8,
   "metadata": {
    "id": "cIFt4lvymgil"
   },
   "outputs": [
    {
     "name": "stdout",
     "output_type": "stream",
     "text": [
      "You lost! You didn't meet the key criteria.\n"
     ]
    }
   ],
   "source": [
    "has_key = False\n",
    "if has_key == True:\n",
    "  print(\"You won! Unlock the door!\")\n",
    "else:\n",
    "    print(\"You lost! You didn't meet the key criteria.\")\n"
   ]
  },
  {
   "cell_type": "markdown",
   "metadata": {
    "id": "qE5eBr8-mlcv"
   },
   "source": [
    "## Relational Operators\n",
    "You can use the following symbols, called relational operators, to compare two values in an if statement:\n",
    "\n",
    "\n",
    "\n",
    "\n",
    "<table border=\"0\">\n",
    "<tr width=100%>\n",
    "<td width=60%>\n",
    "\n",
    "- ```> ```\n",
    "- ```<```\n",
    "- ```<=```\n",
    "- ```>=```\n",
    "\n",
    "\n",
    "</td>\n",
    "<td width=60%>\n",
    "\n",
    "- ```==```\n",
    "- ```and```\n",
    "- ```or```\n",
    "- ```not```\n",
    "</td>\n",
    "</tr>\n",
    "</table>\n",
    "\n",
    "You can also print out true/false checks with a print statement!\n",
    "\n",
    "1. Look at the code below, and try to guess what the output of each statement is going to be before you run it."
   ]
  },
  {
   "cell_type": "code",
   "execution_count": null,
   "metadata": {
    "id": "7ySgQ_NxnVP2"
   },
   "outputs": [],
   "source": [
    "# checks if 5 is greater than 4.\n",
    "print(5 > 4)\n",
    "\n",
    "# checks if 10 is equal to 10.\n",
    "print(10 == 10)\n",
    "\n",
    "# checks if 5 is less than 10.\n",
    "print(5 < 10)\n",
    "\n",
    "#  checks if 4 is not greater than 5.\n",
    "print(not 4>5)\n",
    "\n",
    "# checks if f is greater than 4 and has_key is true\n",
    "print(5>4 and has_key == True)\n",
    "\n",
    "# checks if either 4 is greater than 5 or 4 is greater that 6.\n",
    "print(4>5 or 4>6)"
   ]
  },
  {
   "cell_type": "markdown",
   "metadata": {
    "id": "Hr4w9RYnnzl9"
   },
   "source": [
    "## Elif and Else Practice\n",
    "\n",
    "If statements pair up with elif (short for \"else if\") and else statements to perform a series of checks.\n",
    "\n",
    "1. Run the cell below to see a full if/elif/else block"
   ]
  },
  {
   "cell_type": "code",
   "execution_count": null,
   "metadata": {
    "id": "dw2YL4aOnzPN"
   },
   "outputs": [],
   "source": [
    "player_age = 12\n",
    "\n",
    "if player_age >= 18:\n",
    "    print(\"You could be in college.\")\n",
    "elif player_age >= 13:\n",
    "    print(\"You can also attend iD Academies!\")\n",
    "elif player_age >= 7:\n",
    "    print(\"You can attend iD Tech Camps!\")\n",
    "else:\n",
    "    print(\"You're young.\")"
   ]
  },
  {
   "cell_type": "markdown",
   "metadata": {
    "id": "LSSEZ2aHoDQ0"
   },
   "source": [
    "If and elif statements always look for a specific condition:\n",
    "\n",
    "- ```if player_age > 18 : ``` Happens if the age is greater than 18.\n",
    "\n",
    "- ```elif player_age > 13 : ``` Only happens if the age is not greater than 18 and greater than 13.\n",
    "\n",
    "\n",
    "An else statement doesn't look for a specific condition. Else statements occur after an if or elif statement in your code.\n",
    "\n",
    "- ```if player_age > 18 : ```Happens if the age is greater than 18.\n",
    "\n",
    "- ``` else : ``` Would happen for any other age not specified above.\n",
    "\n",
    "Every if - elif - else block must begin with one regular if statement, and end with a single else statement, but you can have as many elif statements in the middle as you want!\n",
    "\n",
    "### Now it's your turn! ###\n",
    "\n",
    "Add another check to the if/elif/else block to see if you aren't even in school yet!\n"
   ]
  },
  {
   "cell_type": "code",
   "execution_count": null,
   "metadata": {
    "id": "HYGP67OOoxXD"
   },
   "outputs": [],
   "source": [
    "player_age = 12\n",
    "\n",
    "if player_age >= 18:\n",
    "    print(\"You could be in college.\")\n",
    "elif player_age >= 13:\n",
    "    print(\"You can also attend iD Academies!\")\n",
    "elif player_age >= 7:\n",
    "    print(\"You can attend iD Tech Camps!\")\n",
    "# Add another check here\n",
    "else:\n",
    "    print(\"You're young.\")"
   ]
  },
  {
   "cell_type": "markdown",
   "metadata": {
    "id": "Vwu_tgg-o4yH"
   },
   "source": [
    "## Comparison Keywords\n",
    "\n",
    "What if you want to check a couple of things at once? Use **and** to check if two conditions are true.\n",
    "\n",
    "For example, ``` if x > 2 and x < 4``` does something only if both are true.\n",
    "\n",
    "1. Can you edit the variables below so that the code prints out \"You won the game!\"?"
   ]
  },
  {
   "cell_type": "code",
   "execution_count": 9,
   "metadata": {
    "id": "tRugslMGo--w"
   },
   "outputs": [
    {
     "name": "stdout",
     "output_type": "stream",
     "text": [
      "You won the game!\n"
     ]
    }
   ],
   "source": [
    "player_has_item = True\n",
    "score = 101\n",
    "\n",
    "\n",
    "\n",
    "# Do not touch below here ------------------------------------------------------------\n",
    "won = False\n",
    "\n",
    "if player_has_item and score > 100:\n",
    "    won = True\n",
    "\n",
    "if not won:\n",
    "    print(\"You haven't beaten the game yet.\")\n",
    "elif won:\n",
    "    print(\"You won the game!\")"
   ]
  },
  {
   "cell_type": "markdown",
   "metadata": {
    "id": "J4COLHr4pQUt"
   },
   "source": [
    "Use **or** to check if either condition is true. If either one is true, the if statement will run its code.\n",
    "\n",
    " For example ```if score > 100 or player_has_item :```   does something if either case is true.\n",
    "\n",
    "2. Can you edit the code so it prints out the \"You won the game!\" statement. Make as few changes as possible.\n",
    "\n"
   ]
  },
  {
   "cell_type": "code",
   "execution_count": 13,
   "metadata": {
    "id": "bPzpuQ6nplDD"
   },
   "outputs": [
    {
     "name": "stdout",
     "output_type": "stream",
     "text": [
      "You haven't beaten the game yet.\n"
     ]
    }
   ],
   "source": [
    "player_has_item = False\n",
    "score = 100\n",
    "\n",
    "# Do not touch below here ------------------------------------------------------------\n",
    "won = False\n",
    "\n",
    "if player_has_item or score > 99:\n",
    "    won = False\n",
    "\n",
    "if not won:\n",
    "    print(\"You haven't beaten the game yet.\")\n",
    "elif won:\n",
    "    print(\"You won the game!\")"
   ]
  },
  {
   "cell_type": "markdown",
   "metadata": {
    "id": "3yeZbWZop5hM"
   },
   "source": [
    "Another keyword, not, checks if something is false.\n",
    "\n",
    "For example, ``` if not won :``` does something if this case is not true.\n",
    "\n",
    "This statement is commonly used in games when you want the game to keep running if it isn't won.\n",
    "\n",
    "1. Update the program below to work by adding the **not** keyword below.\n"
   ]
  },
  {
   "cell_type": "code",
   "execution_count": 20,
   "metadata": {
    "id": "JAIlEapiqLiV",
    "scrolled": true
   },
   "outputs": [
    {
     "name": "stdout",
     "output_type": "stream",
     "text": [
      "Are you done playing?penis\n",
      "Okay!\n",
      "Are you done playing?penis\n",
      "Okay!\n",
      "Are you done playing?penis\n",
      "Okay!\n",
      "Are you done playing?penis\n",
      "Okay!\n",
      "Are you done playing?\n",
      "Okay!\n",
      "Are you done playing?\n",
      "Okay!\n",
      "Are you done playing?\n",
      "Okay!\n",
      "Are you done playing?\n",
      "Okay!\n",
      "Are you done playing?\n",
      "Okay!\n"
     ]
    },
    {
     "ename": "KeyboardInterrupt",
     "evalue": "Interrupted by user",
     "output_type": "error",
     "traceback": [
      "\u001b[1;31m---------------------------------------------------------------------------\u001b[0m",
      "\u001b[1;31mKeyboardInterrupt\u001b[0m                         Traceback (most recent call last)",
      "Cell \u001b[1;32mIn[20], line 7\u001b[0m\n\u001b[0;32m      5\u001b[0m \u001b[38;5;28;01mwhile\u001b[39;00m \u001b[38;5;28;01mTrue\u001b[39;00m:\n\u001b[0;32m      6\u001b[0m     \u001b[38;5;28;01mif\u001b[39;00m \u001b[38;5;129;01mnot\u001b[39;00m done_playing:\n\u001b[1;32m----> 7\u001b[0m         answer \u001b[38;5;241m=\u001b[39m \u001b[38;5;28;43minput\u001b[39;49m\u001b[43m(\u001b[49m\u001b[38;5;124;43m\"\u001b[39;49m\u001b[38;5;124;43mAre you done playing?\u001b[39;49m\u001b[38;5;124;43m\"\u001b[39;49m\u001b[43m)\u001b[49m\n\u001b[0;32m      8\u001b[0m         \u001b[38;5;28;01mif\u001b[39;00m answer\u001b[38;5;241m.\u001b[39mlower() \u001b[38;5;241m==\u001b[39m \u001b[38;5;124m'\u001b[39m\u001b[38;5;124myes\u001b[39m\u001b[38;5;124m'\u001b[39m:\n\u001b[0;32m      9\u001b[0m             done_playing \u001b[38;5;241m=\u001b[39m \u001b[38;5;28;01mTrue\u001b[39;00m\n",
      "File \u001b[1;32m~\\AppData\\Local\\Programs\\Python\\Python310\\lib\\site-packages\\ipykernel\\kernelbase.py:1175\u001b[0m, in \u001b[0;36mKernel.raw_input\u001b[1;34m(self, prompt)\u001b[0m\n\u001b[0;32m   1171\u001b[0m \u001b[38;5;28;01mif\u001b[39;00m \u001b[38;5;129;01mnot\u001b[39;00m \u001b[38;5;28mself\u001b[39m\u001b[38;5;241m.\u001b[39m_allow_stdin:\n\u001b[0;32m   1172\u001b[0m     \u001b[38;5;28;01mraise\u001b[39;00m StdinNotImplementedError(\n\u001b[0;32m   1173\u001b[0m         \u001b[38;5;124m\"\u001b[39m\u001b[38;5;124mraw_input was called, but this frontend does not support input requests.\u001b[39m\u001b[38;5;124m\"\u001b[39m\n\u001b[0;32m   1174\u001b[0m     )\n\u001b[1;32m-> 1175\u001b[0m \u001b[38;5;28;01mreturn\u001b[39;00m \u001b[38;5;28;43mself\u001b[39;49m\u001b[38;5;241;43m.\u001b[39;49m\u001b[43m_input_request\u001b[49m\u001b[43m(\u001b[49m\n\u001b[0;32m   1176\u001b[0m \u001b[43m    \u001b[49m\u001b[38;5;28;43mstr\u001b[39;49m\u001b[43m(\u001b[49m\u001b[43mprompt\u001b[49m\u001b[43m)\u001b[49m\u001b[43m,\u001b[49m\n\u001b[0;32m   1177\u001b[0m \u001b[43m    \u001b[49m\u001b[38;5;28;43mself\u001b[39;49m\u001b[38;5;241;43m.\u001b[39;49m\u001b[43m_parent_ident\u001b[49m\u001b[43m[\u001b[49m\u001b[38;5;124;43m\"\u001b[39;49m\u001b[38;5;124;43mshell\u001b[39;49m\u001b[38;5;124;43m\"\u001b[39;49m\u001b[43m]\u001b[49m\u001b[43m,\u001b[49m\n\u001b[0;32m   1178\u001b[0m \u001b[43m    \u001b[49m\u001b[38;5;28;43mself\u001b[39;49m\u001b[38;5;241;43m.\u001b[39;49m\u001b[43mget_parent\u001b[49m\u001b[43m(\u001b[49m\u001b[38;5;124;43m\"\u001b[39;49m\u001b[38;5;124;43mshell\u001b[39;49m\u001b[38;5;124;43m\"\u001b[39;49m\u001b[43m)\u001b[49m\u001b[43m,\u001b[49m\n\u001b[0;32m   1179\u001b[0m \u001b[43m    \u001b[49m\u001b[43mpassword\u001b[49m\u001b[38;5;241;43m=\u001b[39;49m\u001b[38;5;28;43;01mFalse\u001b[39;49;00m\u001b[43m,\u001b[49m\n\u001b[0;32m   1180\u001b[0m \u001b[43m\u001b[49m\u001b[43m)\u001b[49m\n",
      "File \u001b[1;32m~\\AppData\\Local\\Programs\\Python\\Python310\\lib\\site-packages\\ipykernel\\kernelbase.py:1217\u001b[0m, in \u001b[0;36mKernel._input_request\u001b[1;34m(self, prompt, ident, parent, password)\u001b[0m\n\u001b[0;32m   1214\u001b[0m             \u001b[38;5;28;01mbreak\u001b[39;00m\n\u001b[0;32m   1215\u001b[0m \u001b[38;5;28;01mexcept\u001b[39;00m \u001b[38;5;167;01mKeyboardInterrupt\u001b[39;00m:\n\u001b[0;32m   1216\u001b[0m     \u001b[38;5;66;03m# re-raise KeyboardInterrupt, to truncate traceback\u001b[39;00m\n\u001b[1;32m-> 1217\u001b[0m     \u001b[38;5;28;01mraise\u001b[39;00m \u001b[38;5;167;01mKeyboardInterrupt\u001b[39;00m(\u001b[38;5;124m\"\u001b[39m\u001b[38;5;124mInterrupted by user\u001b[39m\u001b[38;5;124m\"\u001b[39m) \u001b[38;5;28;01mfrom\u001b[39;00m \u001b[38;5;28mNone\u001b[39m\n\u001b[0;32m   1218\u001b[0m \u001b[38;5;28;01mexcept\u001b[39;00m \u001b[38;5;167;01mException\u001b[39;00m:\n\u001b[0;32m   1219\u001b[0m     \u001b[38;5;28mself\u001b[39m\u001b[38;5;241m.\u001b[39mlog\u001b[38;5;241m.\u001b[39mwarning(\u001b[38;5;124m\"\u001b[39m\u001b[38;5;124mInvalid Message:\u001b[39m\u001b[38;5;124m\"\u001b[39m, exc_info\u001b[38;5;241m=\u001b[39m\u001b[38;5;28;01mTrue\u001b[39;00m)\n",
      "\u001b[1;31mKeyboardInterrupt\u001b[0m: Interrupted by user"
     ]
    }
   ],
   "source": [
    "import random\n",
    "\n",
    "done_playing = False\n",
    "\n",
    "while True:\n",
    "    if not done_playing:\n",
    "        answer = input(\"Are you done playing?\")\n",
    "        if answer.lower() == 'yes':\n",
    "            done_playing = True\n",
    "            print(\"Goodbye\")\n",
    "            break\n",
    "        else:\n",
    "            print(\"Okay!\")"
   ]
  },
  {
   "cell_type": "code",
   "execution_count": null,
   "metadata": {},
   "outputs": [],
   "source": []
  },
  {
   "cell_type": "code",
   "execution_count": null,
   "metadata": {},
   "outputs": [],
   "source": []
  }
 ],
 "metadata": {
  "colab": {
   "provenance": []
  },
  "kernelspec": {
   "display_name": "Python 3 (ipykernel)",
   "language": "python",
   "name": "python3"
  },
  "language_info": {
   "codemirror_mode": {
    "name": "ipython",
    "version": 3
   },
   "file_extension": ".py",
   "mimetype": "text/x-python",
   "name": "python",
   "nbconvert_exporter": "python",
   "pygments_lexer": "ipython3",
   "version": "3.10.0"
  }
 },
 "nbformat": 4,
 "nbformat_minor": 1
}
