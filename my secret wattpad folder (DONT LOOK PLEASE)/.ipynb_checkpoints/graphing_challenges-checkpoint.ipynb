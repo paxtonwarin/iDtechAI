{
 "cells": [
  {
   "cell_type": "markdown",
   "metadata": {
    "id": "8r0iqrbs6nbH"
   },
   "source": [
    "# Graphing Challenges\n",
    "\n",
    "Now that you understand how to use numpy and matplotlib to create graphs, see if you can complete these challenges. \n",
    "\n",
    "## Challenge 1\n",
    "\n",
    "Using the skills you have learned so far, generate a random dataset and plot it on a graph using MatPlotLib. "
   ]
  },
  {
   "cell_type": "code",
   "execution_count": null,
   "metadata": {
    "id": "qziFMV3y6hzg"
   },
   "outputs": [],
   "source": [
    "# Add code for challenge 1 here\n",
    "\n"
   ]
  },
  {
   "cell_type": "markdown",
   "metadata": {
    "id": "CnQmdLIw62wB"
   },
   "source": [
    "## Challenge 2 \n",
    "\n",
    "Create categories and generate random data for them. Plot the data on a bar chart."
   ]
  },
  {
   "cell_type": "code",
   "execution_count": null,
   "metadata": {
    "id": "z_0ozqNi65bl"
   },
   "outputs": [],
   "source": [
    "# Add code for challenge 2 here\n",
    "\n"
   ]
  }
 ],
 "metadata": {
  "colab": {
   "provenance": []
  },
  "kernelspec": {
   "display_name": "Python 3 (ipykernel)",
   "language": "python",
   "name": "python3"
  },
  "language_info": {
   "codemirror_mode": {
    "name": "ipython",
    "version": 3
   },
   "file_extension": ".py",
   "mimetype": "text/x-python",
   "name": "python",
   "nbconvert_exporter": "python",
   "pygments_lexer": "ipython3",
   "version": "3.10.0"
  }
 },
 "nbformat": 4,
 "nbformat_minor": 1
}
