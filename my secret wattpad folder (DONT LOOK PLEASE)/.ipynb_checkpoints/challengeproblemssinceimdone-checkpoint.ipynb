{
 "cells": [
  {
   "cell_type": "code",
   "execution_count": 5,
   "id": "8cce8557",
   "metadata": {},
   "outputs": [
    {
     "name": "stdout",
     "output_type": "stream",
     "text": [
      "[[[1. 1. 1. 1.]\n",
      "  [1. 1. 1. 1.]\n",
      "  [1. 1. 1. 1.]]\n",
      "\n",
      " [[1. 1. 1. 1.]\n",
      "  [1. 1. 1. 1.]\n",
      "  [1. 1. 1. 1.]]]\n"
     ]
    }
   ],
   "source": [
    "#challenge 1\n",
    "import numpy as np\n",
    "\n",
    "threedimensionalarray = np.ones((2, 3, 4))\n",
    "\n",
    "print(threedimensionalarray)"
   ]
  },
  {
   "cell_type": "code",
   "execution_count": 22,
   "id": "8050f611",
   "metadata": {},
   "outputs": [
    {
     "name": "stdout",
     "output_type": "stream",
     "text": [
      "Number not found\n",
      "Number not found\n",
      "Number not found\n",
      "Position: 6\n"
     ]
    }
   ],
   "source": [
    "# make a list of a bunch of numbers in sorted order (chatgpt) \n",
    "import numpy as np\n",
    "\n",
    "numbers_unordered = [68, 6, 3, 77, 13, 20, 22, 66, 40, 67, 87, 70, 7, 61, 36, 21, 86, 38, 83, 45, 24, 74, 62, 51, 15, 90, 25, 58, 27, 37, 55, 46, 80, 32, 88, 54, 75, 34, 82, 79, 96, 50, 64, 59, 93, 72, 94, 63, 18, 16, 49, 58, 11, 64, 95, 57, 23, 9, 62, 35, 88, 99, 22, 80, 75, 55, 37, 44, 61, 27, 39, 73, 47, 38, 45, 54, 2, 53, 42, 6, 4, 79, 12, 85, 76, 83, 63, 77, 67, 3, 21, 68, 19, 87, 78, 89, 50, 25, 66, 46]\n",
    "numbers_ordered = np.sort(numbers_unordered)\n",
    "target_number = 7\n",
    "length_ordered = len(numbers_ordered)\n",
    "\n",
    "\n",
    "while len(numbers_ordered) > 1:\n",
    "    midpoint = int(len(numbers_ordered) / 2)\n",
    "    if numbers_ordered[midpoint] == target_number:\n",
    "        print(\"Position: \" + str(midpoint))\n",
    "        break\n",
    "    elif numbers_ordered[midpoint] > target_number:\n",
    "        numbers_ordered = numbers_ordered[:midpoint] # start to half\n",
    "        print(\"Number not found\")\n",
    "        if len(numbers_ordered) == 1:\n",
    "            print(\"-1\")\n",
    "    elif numbers_ordered[midpoint] < target_number:\n",
    "        numbers_ordered = numbers_ordered[midpoint:] # half to end\n",
    "        print(\"Number not found\")\n",
    "        if len(numbers_ordered) == 1:\n",
    "            print(\"-1\")"
   ]
  },
  {
   "cell_type": "code",
   "execution_count": 24,
   "id": "b23ccb0d",
   "metadata": {},
   "outputs": [
    {
     "name": "stdout",
     "output_type": "stream",
     "text": [
      "Enter the numbers in your list, seperated with commas and spaces. Example: 10, 25, 5, 2 \n",
      "10, 75, 51, 48, 83, 78, 18, 93, 86, 85, 95, 68, 16, 32, 37, 38, 82, 2, 43, 29, 7, 20, 60, 4, 31, 35, 28, 39, 63, 1, 6, 34, 89, 96, 66, 97, 69, 26, 81, 50, 98, 87, 57, 55, 17, 80, 74, 67, 27, 56\n",
      "Enter what number you're looking for. \n",
      "87\n",
      "Enter the starting index range. \n",
      "0\n",
      "Enter the ending index range. \n",
      "49\n",
      "Number not found\n",
      "Number not found\n",
      "Your ordered list is: [ 1  2  4  6  7 10 16 17 18 20 26 27 28 29 31 32 34 35 37 38 39 43 48 50\n",
      " 51 55 56 57 60 63 66 67 68 69 74 75 78 80 81 82 83 85 86 87 89 93 95 96\n",
      " 97 98]\n",
      "You're done. The ordered index of your number is: 43\n"
     ]
    }
   ],
   "source": [
    "import numpy as np\n",
    "\n",
    "# check for top half, if not there, set midpoint and check for top half again until 1, \n",
    "\n",
    "number_input = input(\"Enter the numbers in your list, seperated with commas and spaces. Example: 10, 25, 5, 2 \\n\")\n",
    "numbers_unordered = [int(x.strip()) for x in number_input.split(',')]\n",
    "numbers_ordered = np.sort(numbers_unordered)\n",
    "target_number = int(input(\"Enter what number you're looking for. \\n\"))\n",
    "length_ordered = len(numbers_ordered)\n",
    "start = int(input(\"Enter the starting index range. \\n\"))\n",
    "end = int(input(\"Enter the ending index range. \\n\"))\n",
    "midpoint = int((start + ((end - start)/2)))\n",
    "\n",
    "while start != end:\n",
    "    midpoint = int((start + ((end - start)/2)))\n",
    "    if numbers_ordered[midpoint] == target_number:\n",
    "        print(\"Your ordered list is: \" + str(numbers_ordered))\n",
    "        print(\"You're done. The ordered index of your number is: \" + str(midpoint))\n",
    "        break\n",
    "    elif numbers_ordered[midpoint] < target_number:\n",
    "        print(\"Number not found\")\n",
    "        start = midpoint + 1\n",
    "        midpoint = int((start + ((end - start)/2)))\n",
    "        \n",
    "    elif numbers_ordered[midpoint] > target_number:\n",
    "        end = midpoint  - 1\n",
    "        midpoint = int((start + ((end - start)/2)))\n",
    "        print(\"Number not found\")"
   ]
  },
  {
   "cell_type": "code",
   "execution_count": 10,
   "id": "bdac2a76",
   "metadata": {},
   "outputs": [
    {
     "name": "stdout",
     "output_type": "stream",
     "text": [
      "Enter the numbers in your list, seperated with commas and spaces. Example: 10, 25, 5, 2 \n",
      "2, 4, 5, 6, 7, 8, 12, 19, 25, 191\n",
      "Inorder Traversal:\n",
      "2 4 5 6 7 8 12 19 25 191 \n",
      "Preorder Traversal:\n",
      "2 4 5 6 7 8 12 19 25 191 \n",
      "Postorder Traversal:\n",
      "191 25 19 12 8 7 6 5 4 2 "
     ]
    }
   ],
   "source": [
    "class Node:\n",
    "    def __init__(self, key):\n",
    "        self.key = key\n",
    "        self.left = None\n",
    "        self.right = None\n",
    "\n",
    "class BinaryTree:\n",
    "    def __init__(self):\n",
    "        self.root = None\n",
    "\n",
    "    def insert(self, key):\n",
    "        if not self.root:\n",
    "            self.root = Node(key)\n",
    "        else:\n",
    "            self._insert_recursively(self.root, key)\n",
    "\n",
    "    def _insert_recursively(self, current_node, key):\n",
    "        if key < current_node.key:\n",
    "            if current_node.left:\n",
    "                self._insert_recursively(current_node.left, key)\n",
    "            else:\n",
    "                current_node.left = Node(key)\n",
    "        else:\n",
    "            if current_node.right:\n",
    "                self._insert_recursively(current_node.right, key)\n",
    "            else:\n",
    "                current_node.right = Node(key)\n",
    "\n",
    "    def inorder_traversal(self, node):\n",
    "        if node:\n",
    "            self.inorder_traversal(node.left)\n",
    "            print(node.key, end=\" \")\n",
    "            self.inorder_traversal(node.right)\n",
    "\n",
    "    def preorder_traversal(self, node):\n",
    "        if node:\n",
    "            print(node.key, end=\" \")\n",
    "            self.preorder_traversal(node.left)\n",
    "            self.preorder_traversal(node.right)\n",
    "\n",
    "    def postorder_traversal(self, node):\n",
    "        if node:\n",
    "            self.postorder_traversal(node.left)\n",
    "            self.postorder_traversal(node.right)\n",
    "            print(node.key, end=\" \")\n",
    "\n",
    "if __name__ == \"__main__\":\n",
    "    binary_tree = BinaryTree()\n",
    "\n",
    "    number_input = input(\"Enter the numbers in your list, seperated with commas and spaces. Example: 10, 25, 5, 2 \\n\")\n",
    "    elements = [int(x.strip()) for x in number_input.split(',')]\n",
    "    \n",
    "    for element in elements:\n",
    "        binary_tree.insert(element)\n",
    "\n",
    "    print(\"Inorder Traversal:\")\n",
    "    binary_tree.inorder_traversal(binary_tree.root)\n",
    "    print()\n",
    "\n",
    "    print(\"Preorder Traversal:\")\n",
    "    binary_tree.preorder_traversal(binary_tree.root)\n",
    "    print()\n",
    "\n",
    "    print(\"Postorder Traversal:\")\n",
    "    binary_tree.postorder_traversal(binary_tree.root)\n"
   ]
  },
  {
   "cell_type": "code",
   "execution_count": null,
   "id": "ffe5a22b",
   "metadata": {},
   "outputs": [],
   "source": []
  },
  {
   "cell_type": "code",
   "execution_count": null,
   "id": "c0d6df02",
   "metadata": {},
   "outputs": [],
   "source": []
  }
 ],
 "metadata": {
  "kernelspec": {
   "display_name": "Python 3 (ipykernel)",
   "language": "python",
   "name": "python3"
  },
  "language_info": {
   "codemirror_mode": {
    "name": "ipython",
    "version": 3
   },
   "file_extension": ".py",
   "mimetype": "text/x-python",
   "name": "python",
   "nbconvert_exporter": "python",
   "pygments_lexer": "ipython3",
   "version": "3.10.0"
  }
 },
 "nbformat": 4,
 "nbformat_minor": 5
}
