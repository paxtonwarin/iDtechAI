{
 "cells": [
  {
   "cell_type": "markdown",
   "metadata": {
    "id": "bYMqVvxUY99G"
   },
   "source": [
    "# Convolutional Neural Network\n",
    "\n",
    "So far you have been working with densely connected networks. With enough training data and enough neurons, a densely connected network could solve just about any problem. \n",
    "\n",
    "However, a convolutional neural network is especially effective for image classification problems. This is because convolutional networks are really good at understanding how data is connected. The structure of the network is such that it inherently learns what parts of the data matter most, and how they are connected. Additionally, for more complicated data, a convolutional network helps keep the number of neurons needed down.\n",
    "\n",
    "**Convolutional neural networks** imitate the structure of neurons that process images in the brain and use techniques to reduce neuron count, as well as maintaining positional relationships in the data.\n",
    "\n",
    "You are going to build a convolutional network for the MNIST set of data to recognize handwritten digits, and then be able to see what works differently."
   ]
  },
  {
   "cell_type": "markdown",
   "metadata": {
    "id": "VDMg3447a1a0"
   },
   "source": [
    "## Data Preparation\n",
    "\n",
    "Since you have already done this part, you can re-use the same code for the data prep. The cell below has that code already created for you. \n",
    "\n",
    "1. Run the cell below to import and prepare the MNIST data for your Convolutional Neural Network."
   ]
  },
  {
   "cell_type": "code",
   "execution_count": 2,
   "metadata": {
    "colab": {
     "base_uri": "https://localhost:8080/"
    },
    "executionInfo": {
     "elapsed": 8666,
     "status": "ok",
     "timestamp": 1651254229074,
     "user": {
      "displayName": "Neha Bala",
      "userId": "08158616502322850116"
     },
     "user_tz": 420
    },
    "id": "a_m-ZiupMsB2",
    "outputId": "378e053f-602b-44e5-f833-b094b930c5f0"
   },
   "outputs": [
    {
     "name": "stdout",
     "output_type": "stream",
     "text": [
      "(60000, 28, 28)\n",
      "(10000, 28, 28)\n",
      "(28, 28, 1)\n"
     ]
    }
   ],
   "source": [
    "import tensorflow as tf\n",
    "from tensorflow import keras\n",
    "from tensorflow.keras.datasets import mnist\n",
    "from tensorflow.keras import backend as K\n",
    "import numpy as np\n",
    "import matplotlib.pyplot as plt\n",
    "%matplotlib inline\n",
    "\n",
    "# helper functions\n",
    "def show_min_max(array, i):\n",
    "  random_image = array[i]\n",
    "  print(\"min and max value in image: \", random_image.min(), random_image.max())\n",
    "\n",
    "\n",
    "def plot_image(array, i, labels):\n",
    "  plt.imshow(np.squeeze(array[i]))\n",
    "  plt.title(\" Digit \" + str(labels[i]))\n",
    "  plt.xticks([])\n",
    "  plt.yticks([])\n",
    "  plt.show()\n",
    "\n",
    "\n",
    "img_rows, img_cols = 28, 28  \n",
    "\n",
    "num_classes = 10 \n",
    "\n",
    "(train_images, train_labels), (test_images, test_labels) = mnist.load_data() \n",
    "(train_images_backup, train_labels_backup), (test_images_backup, test_labels_backup) = mnist.load_data() \n",
    "\n",
    "print(train_images.shape) \n",
    "print(test_images.shape) \n",
    "\n",
    "train_images = train_images.reshape(train_images.shape[0], img_rows, img_cols, 1)\n",
    "test_images = test_images.reshape(test_images.shape[0], img_rows, img_cols, 1)\n",
    "input_shape = (img_rows, img_cols, 1)\n",
    "\n",
    "train_images = train_images.astype('float32')\n",
    "test_images = test_images.astype('float32')\n",
    "\n",
    "train_images /= 255\n",
    "test_images /= 255\n",
    "\n",
    "train_labels = keras.utils.to_categorical(train_labels, num_classes)\n",
    "test_labels = keras.utils.to_categorical(test_labels, num_classes)\n",
    "\n",
    "print(train_images[1232].shape)"
   ]
  },
  {
   "cell_type": "markdown",
   "metadata": {
    "id": "H6NDRSEJZITd"
   },
   "source": [
    "## Creating Your Network\n",
    "\n",
    "Like with the densely connected network, you are going to set up epochs. Remember, epochs are how many rounds the network will have, or how many times it should pass over the data.\n",
    "\n",
    "You will also define this network as Sequential. Convolutional networks, like densely connected ones, take the output from one layer to feed in as input in the next layer. However, the type of layers that this network uses will be different. \n"
   ]
  },
  {
   "cell_type": "markdown",
   "metadata": {
    "id": "mEahPpwgaquz"
   },
   "source": [
    "\n",
    "In the cell below, add epochs and define the model. \n",
    "\n",
    "1. Set the epoch variable to 10\n",
    "2. Set the model to `Sequential()`"
   ]
  },
  {
   "cell_type": "code",
   "execution_count": 3,
   "metadata": {
    "executionInfo": {
     "elapsed": 207,
     "status": "ok",
     "timestamp": 1651254229276,
     "user": {
      "displayName": "Neha Bala",
      "userId": "08158616502322850116"
     },
     "user_tz": 420
    },
    "id": "4m1pD9NPZQUs"
   },
   "outputs": [],
   "source": [
    "from tensorflow.keras.models import Sequential \n",
    "from tensorflow.keras.layers import Dense, Flatten, Conv2D, MaxPooling2D, Dropout\n",
    "\n",
    "# Set your variables here: \n",
    "epochs =  10\n",
    "model = Sequential()"
   ]
  },
  {
   "cell_type": "markdown",
   "metadata": {
    "id": "mRBvYbyJiICv"
   },
   "source": [
    "## Adding Layers\n",
    "\n",
    "With your densely connected network, you added three fully connected (or dense) layers. The layers in this network are convolutional layers and work a little differently. \n",
    "\n",
    "Convolutional layers use small clusters of neurons called filters that are moved across the image and activate based on the pixels they see. These clusters learn to recognize features in the data.\n",
    "\n",
    "You can adjust the number and size of filters in the layer — larger filters observe larger areas of the image at once, while smaller filters spot finer detail. A higher filter count will allow recognizing a wider range of features.\n",
    "\n",
    "There are multiple advantages to having filters that work this way:\n",
    "\n",
    "*  Small filters are more computationally efficient since they only examine a small portion of the image at once.\n",
    "\n",
    "*  Just like in real life, the filter can do a better job by focusing on a small simple problem and ignoring the distraction of the rest of the image.\n",
    "*  Because the filters are moved across the entire image, convolutional networks are good at identifying two images that have the same object but in different places in each image.\n",
    "\n",
    "Your network will use multiple layers of convolutions to learn its task.\n",
    "\n",
    "### Implementing Convolutional Layers\n",
    "\n",
    "Keras provides functionality to easily create convolutional layers for your neural networks. You'll use the function  Conv2D  to create the first convolutional layer of your network.\n",
    "\n",
    "1. In the cell below, fill in the following information: \n",
    "  * filters: 32\n",
    "  * kernal_size: (3, 3)\n",
    "  * activations: 'relu'\n",
    "  * input_shape: input_shape"
   ]
  },
  {
   "cell_type": "code",
   "execution_count": 4,
   "metadata": {
    "executionInfo": {
     "elapsed": 5,
     "status": "ok",
     "timestamp": 1651254229276,
     "user": {
      "displayName": "Neha Bala",
      "userId": "08158616502322850116"
     },
     "user_tz": 420
    },
    "id": "a0V81DITiXko"
   },
   "outputs": [],
   "source": [
    "model.add(Conv2D(filters=32, kernel_size=(3,3),activation='relu',input_shape=input_shape))"
   ]
  },
  {
   "cell_type": "markdown",
   "metadata": {
    "id": "zjrIoNbeitaH"
   },
   "source": [
    "\n",
    "\n",
    "> The Conv2D class creates two-dimensional convolutional layers, meaning they scan across a flat surface, like an image.\n",
    "\n",
    "> There's also a Conv3D class, that scans across a three-dimensional volume.  Can you think of any cases where the Conv3D class would be used?\n",
    "\n"
   ]
  },
  {
   "cell_type": "markdown",
   "metadata": {
    "id": "SQMLUrmpi4Uw"
   },
   "source": [
    "## Pooling Layers\n",
    "\n",
    "Processing images with convolutional layers can get computationally intense rather quickly. Successive layers of convolutions increase the number of neurons and computation time required.\n",
    "\n",
    "> Convolutional networks use **pooling layers** to manage that growth of complexity by simplifying and shrinking the data set.\n",
    "\n",
    "Pooling layers use a filter that moves across the data with a specified stride, simplifying the contents of each filter into a single value. This shrinks the size of the layer's output based on the filter's size.\n",
    "\n",
    "This also helps reduce the network's translation variance, which is how sensitive the network is to an object's exact position in an image.\n",
    "\n",
    "The most common pooling layer is a 2x2 filter with a stride of 2. This results in the width and the height of the input layer being reduced by half. This simplifies the data without too much loss of specificity in the image.\n",
    "\n",
    "### Adding a Pooling Layer\n",
    "\n",
    "1. In the cell below, set the pool size to `(2,2)` and run the cell."
   ]
  },
  {
   "cell_type": "code",
   "execution_count": 5,
   "metadata": {
    "executionInfo": {
     "elapsed": 4,
     "status": "ok",
     "timestamp": 1651254229277,
     "user": {
      "displayName": "Neha Bala",
      "userId": "08158616502322850116"
     },
     "user_tz": 420
    },
    "id": "o22nw-1JjG3m"
   },
   "outputs": [],
   "source": [
    "model.add(MaxPooling2D(pool_size=(2,2)))"
   ]
  },
  {
   "cell_type": "markdown",
   "metadata": {
    "id": "p2aG8yXpjP4f"
   },
   "source": [
    "Convolutional Neural Networks often have more then one set of alternating Convolutional and Pooling Layers."
   ]
  },
  {
   "cell_type": "markdown",
   "metadata": {
    "id": "K8V2nnZIjJt_"
   },
   "source": [
    "## More Convolutional Layers\n",
    "\n",
    "By design, convolutional layers can examine the low-level features of an image.  By adding more convolutional layers the network can start to work with higher-level features.\n",
    "\n",
    "This layer is defined the same way as the last one, except for more filters, 64 here vs. 32 before.  Also, the input shape doesn't need to be defined, since it's inferred from the previous layer.\n",
    "\n",
    "1. In the cell below add another conv2d layer to the network, with `64` filters and a kernel size of `(3,3)`"
   ]
  },
  {
   "cell_type": "code",
   "execution_count": 6,
   "metadata": {
    "executionInfo": {
     "elapsed": 9,
     "status": "ok",
     "timestamp": 1651254229436,
     "user": {
      "displayName": "Neha Bala",
      "userId": "08158616502322850116"
     },
     "user_tz": 420
    },
    "id": "SajrPTEvjh6P"
   },
   "outputs": [],
   "source": [
    "model.add(Conv2D(filters=64, kernel_size=(3, 3), activation='relu'))"
   ]
  },
  {
   "cell_type": "markdown",
   "metadata": {
    "id": "o4FP2YHnj_BX"
   },
   "source": [
    "## Dropout Layers\n",
    "\n",
    "A dropout layer takes a percentage of all the neurons in the input and deactivates them at random. This random dropout of neurons forces more of the network to adapt to the task.\n",
    "\n",
    "Without a dropout layer, larger networks run the risk of growing overdependent on a small set of competent neurons rather than the whole network learning the task. Becoming overdependent on certain neurons is called Overfitting and it can skew the output of your network. \n",
    "\n",
    "1. Set the rate of the dropout layer to `0.3` or 30%\n",
    "2. Run the cell to add this layer to your network."
   ]
  },
  {
   "cell_type": "code",
   "execution_count": 7,
   "metadata": {
    "executionInfo": {
     "elapsed": 8,
     "status": "ok",
     "timestamp": 1651254229436,
     "user": {
      "displayName": "Neha Bala",
      "userId": "08158616502322850116"
     },
     "user_tz": 420
    },
    "id": "Evxp_hhGkXrs"
   },
   "outputs": [],
   "source": [
    "model.add(Dropout(rate=0.3))"
   ]
  },
  {
   "cell_type": "markdown",
   "metadata": {
    "id": "Ra_nVniXkbQn"
   },
   "source": [
    "3. Add another convolutional layer with `32` filters and a kernel size of `(3,3)` and an activation of `relu`. This will be the last calculation layer.\n",
    "4. Run the cell to add this layer to your network. "
   ]
  },
  {
   "cell_type": "code",
   "execution_count": 8,
   "metadata": {
    "executionInfo": {
     "elapsed": 8,
     "status": "ok",
     "timestamp": 1651254229437,
     "user": {
      "displayName": "Neha Bala",
      "userId": "08158616502322850116"
     },
     "user_tz": 420
    },
    "id": "3BuJu8suknv2"
   },
   "outputs": [],
   "source": [
    "# Add your Conv2D layer here:\n",
    "model.add(Conv2D(32, (3,3), activation='relu'))"
   ]
  },
  {
   "cell_type": "markdown",
   "metadata": {
    "id": "NoJtitmLkryn"
   },
   "source": [
    "## Dense and Flatten Layers\n",
    "\n",
    "At the end of the convolutional and pooling layers, you'll need to set up some neurons to help make your final classification decision. This will be a standard, fully connected layer of neurons. In order to connect these layers, you'll first need to flatten the 2D image's filters.\n",
    "\n",
    "Keras uses the  `Flatten`  function to create a flattening layer, and the  `Dense`  function to create dense layers.\n",
    "\n",
    "` units=32 ` is how big the output of the Dense layer will be, in this case, 32 neurons.\n",
    "\n",
    "1. Look at the cell below to see the Flatten() layer. \n",
    "2. Set the units (`32`) and activation `'relu'` for the Dense layer below.\n",
    "3. Run the cell to add these layers to your network. "
   ]
  },
  {
   "cell_type": "code",
   "execution_count": 9,
   "metadata": {
    "executionInfo": {
     "elapsed": 183,
     "status": "ok",
     "timestamp": 1651254229613,
     "user": {
      "displayName": "Neha Bala",
      "userId": "08158616502322850116"
     },
     "user_tz": 420
    },
    "id": "3y5ZRz8llE7W"
   },
   "outputs": [],
   "source": [
    "model.add(Flatten()) \n",
    "model.add(Dense(units=32 ,activation='relu'))"
   ]
  },
  {
   "cell_type": "markdown",
   "metadata": {
    "id": "j-7n0_k1lT9O"
   },
   "source": [
    "## Output Layers\n",
    "Just like with your fully connected network, the final layer needs to shrink the previous layer down to just the number of possible classes. Like before, the decision is represented by the class with the highest weight. \n",
    "\n",
    "1. In the cell below, add a Dense layer with these stats: \n",
    "  * units: the number of output classes\n",
    "  * activation: 'softmax'"
   ]
  },
  {
   "cell_type": "code",
   "execution_count": 10,
   "metadata": {
    "executionInfo": {
     "elapsed": 10,
     "status": "ok",
     "timestamp": 1651254229614,
     "user": {
      "displayName": "Neha Bala",
      "userId": "08158616502322850116"
     },
     "user_tz": 420
    },
    "id": "ivfdJjp0lvU0"
   },
   "outputs": [],
   "source": [
    "model.add(Dense(units=10, activation='softmax'))"
   ]
  },
  {
   "cell_type": "markdown",
   "metadata": {
    "id": "edkEWmTvlx0l"
   },
   "source": [
    "Finally, print out a summary of your network. \n",
    "\n",
    "2. Run the cell below."
   ]
  },
  {
   "cell_type": "code",
   "execution_count": 11,
   "metadata": {
    "colab": {
     "base_uri": "https://localhost:8080/"
    },
    "executionInfo": {
     "elapsed": 198,
     "status": "ok",
     "timestamp": 1651254229804,
     "user": {
      "displayName": "Neha Bala",
      "userId": "08158616502322850116"
     },
     "user_tz": 420
    },
    "id": "DS6Ej76el4nm",
    "outputId": "9a728f62-4cac-430e-9973-f54c4a85210e"
   },
   "outputs": [
    {
     "name": "stdout",
     "output_type": "stream",
     "text": [
      "Model: \"sequential\"\n",
      "_________________________________________________________________\n",
      " Layer (type)                Output Shape              Param #   \n",
      "=================================================================\n",
      " conv2d (Conv2D)             (None, 26, 26, 32)        320       \n",
      "                                                                 \n",
      " max_pooling2d (MaxPooling2D  (None, 13, 13, 32)       0         \n",
      " )                                                               \n",
      "                                                                 \n",
      " conv2d_1 (Conv2D)           (None, 11, 11, 64)        18496     \n",
      "                                                                 \n",
      " dropout (Dropout)           (None, 11, 11, 64)        0         \n",
      "                                                                 \n",
      " conv2d_2 (Conv2D)           (None, 9, 9, 32)          18464     \n",
      "                                                                 \n",
      " flatten (Flatten)           (None, 2592)              0         \n",
      "                                                                 \n",
      " dense (Dense)               (None, 32)                82976     \n",
      "                                                                 \n",
      " dense_1 (Dense)             (None, 10)                330       \n",
      "                                                                 \n",
      "=================================================================\n",
      "Total params: 120,586\n",
      "Trainable params: 120,586\n",
      "Non-trainable params: 0\n",
      "_________________________________________________________________\n"
     ]
    }
   ],
   "source": [
    "model.summary()"
   ]
  },
  {
   "cell_type": "markdown",
   "metadata": {
    "id": "Z-5ljYjvmArm"
   },
   "source": [
    "## Compiling the Network\n",
    "\n",
    "Just like with your first network, you are going to compile this network. The loss and metrics will be the same as your last network: `categorical_crossentropy`, and `accuracy`. This time, however, you are going to use a different training algorithm called **RMSProp**. \n",
    "\n",
    "RMSProp is one of several different training algorithms Keras defines to do the computation that actually teaches the network how to improve. For the neural network, the goal is to optimize the loss by making it as small as possible. RMSProp is one way the network can do this. \n",
    "\n",
    "1. Set each argument in the compile function below. \n",
    "  * loss: `'categorical_crossentropy'`\n",
    "  * optimizer: `'rmsprop'`\n",
    "  * metrics: `['accuracy']`"
   ]
  },
  {
   "cell_type": "code",
   "execution_count": 12,
   "metadata": {
    "executionInfo": {
     "elapsed": 5,
     "status": "ok",
     "timestamp": 1651254229805,
     "user": {
      "displayName": "Neha Bala",
      "userId": "08158616502322850116"
     },
     "user_tz": 420
    },
    "id": "oHbJpcNPmXSf"
   },
   "outputs": [],
   "source": [
    "model.compile(loss='categorical_crossentropy', optimizer='rmsprop',  metrics=['accuracy'])"
   ]
  },
  {
   "cell_type": "markdown",
   "metadata": {
    "id": "Vjt1pTcNmcEd"
   },
   "source": [
    "## Training\n",
    "\n",
    "The fit function does the actual work of running the training.  Now that the data has been processed and the model has been defined and compiled it is time to actually train the model on the data. In this network, you are going to use validation data to get an idea of how the network is performing with each epoch, instead of just once at the end. \n",
    "\n",
    "Let's look at the parameters of this function:\n",
    "\n",
    "First, train_images and train_labels define the data that this network will be trained on. The images are the input and the labels are the expected output. \n",
    "\n",
    "Next, the batch_size allows you to put the data into the network in batches. For this you can set it to `64` for the first training. You can always change this later. \n",
    "\n",
    "Then, you will tell the network how many training rounds or epochs this network will be trained with. \n",
    "\n",
    "Now, set your validation data to the test_images and test_labels so that the network knows what data to test itself against. \n",
    "\n",
    "Finally, you will set the shuffle option to True so that each epoch is different and the model isn't relying on the order of the images to learn about them. \n",
    "\n",
    "1. Run the cell below to start training your network\n"
   ]
  },
  {
   "cell_type": "code",
   "execution_count": null,
   "metadata": {
    "colab": {
     "base_uri": "https://localhost:8080/"
    },
    "executionInfo": {
     "elapsed": 803278,
     "status": "ok",
     "timestamp": 1651255053404,
     "user": {
      "displayName": "Neha Bala",
      "userId": "08158616502322850116"
     },
     "user_tz": 420
    },
    "id": "G6dFaURCmlb9",
    "outputId": "9d77f4ca-6193-4f2e-90fa-c40216fd4302"
   },
   "outputs": [
    {
     "name": "stdout",
     "output_type": "stream",
     "text": [
      "Epoch 1/10\n",
      "938/938 [==============================] - 28s 30ms/step - loss: 0.0745 - accuracy: 0.9775 - val_loss: 0.0479 - val_accuracy: 0.9846\n",
      "Epoch 2/10\n",
      "938/938 [==============================] - 28s 30ms/step - loss: 0.0453 - accuracy: 0.9863 - val_loss: 0.0366 - val_accuracy: 0.9883\n",
      "Epoch 3/10\n",
      "405/938 [===========>..................] - ETA: 15s - loss: 0.0337 - accuracy: 0.9897"
     ]
    }
   ],
   "source": [
    "model.fit(train_images, train_labels, batch_size=64, epochs=epochs, validation_data=(test_images, test_labels), shuffle=True) "
   ]
  },
  {
   "cell_type": "markdown",
   "metadata": {
    "id": "E0NfFoionbKF"
   },
   "source": [
    "## Evaluating and Returning the Model\n",
    "\n",
    "\n",
    "Now that you have created your model, compiled it, and trained it, you need to figure out a way to test it and see how accurate it is on data it hasn't seen yet! Just like with your other network, you will need to evaluate your network.\n",
    "\n",
    "The evaluate function returns an object that stores the results of the evaluation. You will be adding a few arguments to this function so the network knows what data to test itself on. \n",
    "\n",
    "Just like with the other stages, Tensorflow has some tools to help you out.\n",
    "\n",
    "1. Add a print statement to see the test accuracy.\n",
    "2. Run the cell."
   ]
  },
  {
   "cell_type": "code",
   "execution_count": null,
   "metadata": {
    "colab": {
     "base_uri": "https://localhost:8080/"
    },
    "executionInfo": {
     "elapsed": 6764,
     "status": "ok",
     "timestamp": 1651255124196,
     "user": {
      "displayName": "Neha Bala",
      "userId": "08158616502322850116"
     },
     "user_tz": 420
    },
    "id": "izHrkleZ16e3",
    "outputId": "3ea762b0-cea0-457c-a778-dbcc6406c7a2"
   },
   "outputs": [],
   "source": [
    "test_loss, test_acc = model.evaluate(test_images, test_labels, verbose=2)\n",
    "scores = model.evaluate(test_images, test_labels, verbose=0)\n",
    "# Add a print statement for the test accuracy\n",
    "print('Test accuracy:', scores[1])"
   ]
  },
  {
   "cell_type": "markdown",
   "metadata": {
    "id": "HdYa-yPfCVPb"
   },
   "source": [
    "## Saving your Model\n",
    "\n",
    "Like before, you might want to save a copy of this trained model to use later.\n",
    "\n",
    "1. Run this cell to save the model to your student folder."
   ]
  },
  {
   "cell_type": "code",
   "execution_count": 14,
   "metadata": {
    "executionInfo": {
     "elapsed": 148,
     "status": "ok",
     "timestamp": 1651255127642,
     "user": {
      "displayName": "Neha Bala",
      "userId": "08158616502322850116"
     },
     "user_tz": 420
    },
    "id": "Q4zIcoCTG2dz"
   },
   "outputs": [],
   "source": [
    "model.save('cnn_model.h5')"
   ]
  },
  {
   "cell_type": "code",
   "execution_count": null,
   "metadata": {},
   "outputs": [],
   "source": []
  }
 ],
 "metadata": {
  "colab": {
   "collapsed_sections": [],
   "name": "Walkthrough_ConvolutionalNN.ipynb",
   "provenance": []
  },
  "kernelspec": {
   "display_name": "Python 3 (ipykernel)",
   "language": "python",
   "name": "python3"
  },
  "language_info": {
   "codemirror_mode": {
    "name": "ipython",
    "version": 3
   },
   "file_extension": ".py",
   "mimetype": "text/x-python",
   "name": "python",
   "nbconvert_exporter": "python",
   "pygments_lexer": "ipython3",
   "version": "3.10.0"
  }
 },
 "nbformat": 4,
 "nbformat_minor": 1
}
