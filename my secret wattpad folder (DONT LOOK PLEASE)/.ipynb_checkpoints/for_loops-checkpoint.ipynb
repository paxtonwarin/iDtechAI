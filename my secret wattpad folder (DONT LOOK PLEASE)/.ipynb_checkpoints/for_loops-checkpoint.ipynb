{
 "cells": [
  {
   "cell_type": "markdown",
   "metadata": {
    "id": "jR7KBRRUnPiP"
   },
   "source": [
    "# Intro to For Loops\n",
    "\n",
    "For loops, must have three components:\n",
    "\n",
    "- A control variable\n",
    "- A conditional statement\n",
    "- A loop body\n",
    "\n",
    "**So what makes for loops different from while loops?**\n",
    "\n",
    "### For Loops vs. While Loops\n",
    "\n",
    "Remember, while loops run an unknown or unspecified amount of times. For loops run a specific or set amount of times, controlled by the programmer (that's you!).\n",
    "\n",
    "## Parts of a For Loop\n",
    "\n",
    "Imagine a tree with fourteen leaves. You are going to create a loop that makes each leaf fall off the tree.\n",
    "\n",
    "To do something to all 14 leaves on the tree, use a for loop.\n",
    "\n",
    "1. Set the control variable to the number of leaves. \n"
   ]
  },
  {
   "cell_type": "code",
   "execution_count": null,
   "metadata": {
    "id": "erIUxsyfnLYT"
   },
   "outputs": [],
   "source": [
    "# Create a control variable\n",
    "number_of_leaves = "
   ]
  },
  {
   "cell_type": "markdown",
   "metadata": {
    "id": "UZ7O5_1Sn_Fk"
   },
   "source": [
    "Also like a while loop, you'll write a conditional statement, though this one looks a little different:\n",
    "\n",
    "\n",
    "\n",
    "```\n",
    "for x in range(0, number_of_leaves):\n",
    "```\n",
    "\n",
    "As long as x (your count variable) is between 0 and 15 ( number_of_leaves ), the code inside the loop will run.\n",
    "\n",
    "Each time the loop runs, it will add 1 to the count variable, ending when it reaches the  number_of_leaves  value.\n",
    "\n",
    "1. Run the cell to add the for loop conditional and the body.\n"
   ]
  },
  {
   "cell_type": "code",
   "execution_count": null,
   "metadata": {
    "id": "c8Lo_ddgohfF"
   },
   "outputs": [],
   "source": [
    "for x in range(0, number_of_leaves):\n",
    "  print(\"A leaf fell to the ground \" + str(x) + \" leaves have fallen.\") \n",
    "\n",
    "print(\"All the leaves fell. For loop complete.\") "
   ]
  },
  {
   "cell_type": "markdown",
   "metadata": {
    "id": "MS8XEn7jo1RG"
   },
   "source": [
    "**But wait? This loop only ran thirteen times?**\n",
    "\n",
    "You might have noticed that the count of leaves that have fallen is not correct. This is because we started the loop at zero, and ended it when the number of leaves is still less than 14. \n",
    "\n",
    "1. Can you figure out how to adjust the code so that it makes leaves fall from 1 to 14 instead? \n",
    "\n",
    "If you get stuck use the drop down menu below.\n",
    "\n",
    "<details>\n",
    "<summary> Click here for an example </summary>\n",
    "\n",
    "```\n",
    "number_of_leaves = 15\n",
    "for x in range(1, number_of_leaves):\n",
    "  print(\"A leaf fell to the ground \" + str(x) + \" leaves have fallen.\") \n",
    "\n",
    "print(\"All the leaves fell. For loop complete.\") \n",
    "\n",
    "\n",
    "```\n",
    "\n",
    "\n",
    "\n",
    "</details>"
   ]
  },
  {
   "cell_type": "code",
   "execution_count": 2,
   "metadata": {
    "id": "zOBMfd2wpJoY"
   },
   "outputs": [
    {
     "name": "stdout",
     "output_type": "stream",
     "text": [
      "A leaf fell to the ground 1 leaves have fallen.\n",
      "A leaf fell to the ground 2 leaves have fallen.\n",
      "A leaf fell to the ground 3 leaves have fallen.\n",
      "A leaf fell to the ground 4 leaves have fallen.\n",
      "A leaf fell to the ground 5 leaves have fallen.\n",
      "A leaf fell to the ground 6 leaves have fallen.\n",
      "A leaf fell to the ground 7 leaves have fallen.\n",
      "A leaf fell to the ground 8 leaves have fallen.\n",
      "A leaf fell to the ground 9 leaves have fallen.\n",
      "A leaf fell to the ground 10 leaves have fallen.\n",
      "A leaf fell to the ground 11 leaves have fallen.\n",
      "A leaf fell to the ground 12 leaves have fallen.\n",
      "A leaf fell to the ground 13 leaves have fallen.\n",
      "A leaf fell to the ground 14 leaves have fallen.\n",
      "All the leaves fell. For loop complete.\n"
     ]
    }
   ],
   "source": [
    "# Your control variable\n",
    "number_of_leaves = 14\n",
    "# For loop conditional statement - add your range here\n",
    "for x in range(1,15):\n",
    "  print(\"A leaf fell to the ground \" + str(x) + \" leaves have fallen.\") \n",
    "\n",
    "print(\"All the leaves fell. For loop complete.\") "
   ]
  },
  {
   "cell_type": "markdown",
   "metadata": {
    "id": "W01BDUWPpXxn"
   },
   "source": [
    "\n",
    "\n",
    "\n",
    "Use for loops to repeat a block of code if you know how many times it needs to run. For loops help you perform an action on multiple elements, if you know how many there are.\n",
    "\n"
   ]
  }
 ],
 "metadata": {
  "colab": {
   "collapsed_sections": [],
   "provenance": []
  },
  "kernelspec": {
   "display_name": "Python 3 (ipykernel)",
   "language": "python",
   "name": "python3"
  },
  "language_info": {
   "codemirror_mode": {
    "name": "ipython",
    "version": 3
   },
   "file_extension": ".py",
   "mimetype": "text/x-python",
   "name": "python",
   "nbconvert_exporter": "python",
   "pygments_lexer": "ipython3",
   "version": "3.10.0"
  }
 },
 "nbformat": 4,
 "nbformat_minor": 1
}
