{
 "cells": [
  {
   "cell_type": "markdown",
   "metadata": {
    "id": "E1BtiRZFTl8b"
   },
   "source": [
    "# Number Guessing Game\n",
    "\n",
    "In this notebook you are challenged to use your knowledge of loops, conditionals, input, random numbers, and printing to create a number guessing game. \n",
    "\n",
    "In this challenge, you'll be making a guess the number game. Your program will generate a random number and then ask the user to guess what it is. \n",
    "\n",
    "When they guess wrong, your program will tell them if they are too high or too low.\n",
    "\n",
    "### Core Freatures Breakdown\n",
    "- Generate a random number between 1 and 100.\n",
    "\n",
    "- Let the user guess what the number is until they get it right.\n",
    "\n",
    "- Give the user feedback after each guess- tell them if their guess is too high, too low, or just right.\n",
    "\n",
    "- Begin the game again.\n"
   ]
  },
  {
   "cell_type": "code",
   "execution_count": null,
   "metadata": {
    "id": "-j0-ot-5TlKw",
    "scrolled": true
   },
   "outputs": [],
   "source": [
    "# Add your code here: \n",
    "import random as rand\n",
    "\n",
    "correct = rand.randint(1,100)\n",
    "\n",
    "guess = int(input(\"Guess a random number 1-100!\\n\"))\n",
    "\n",
    "if guess == correct:\n",
    "    print (\"You won!\")\n",
    "else:\n",
    "    print(\"You lost! Try again.\")\n",
    "\n",
    "while guess != correct:\n",
    "    if guess > correct:\n",
    "        print(\"here is a hint: your guess is bigger than the correct number.\")\n",
    "    else:\n",
    "        print(\"here is a hint: your guess is smaller than the correct number.\")\n",
    "    guess = int(input(\"Guess a random number 1-100 again!\\n\"))\n",
    "    \n",
    "print (\"You won!\")"
   ]
  },
  {
   "cell_type": "markdown",
   "metadata": {
    "id": "ogeubfG_UYxb"
   },
   "source": [
    "##### Bonus Features\n",
    "\n",
    "- Create a variable to keep track of the number of gueses\n",
    "\n",
    "- Add another loop so that the game can be played a set number of times\n",
    "\n",
    "- Save all the number of guesses to a list, and tell the user what the best score is.\n",
    "\n",
    "- Add a second death number that the user is trying to avoid, and if the user guesses that number the game is over. \n",
    "\n",
    "- Add a function for code that you re-use often, like getting user input or generating the random number\n"
   ]
  },
  {
   "cell_type": "code",
   "execution_count": 32,
   "metadata": {},
   "outputs": [
    {
     "name": "stdout",
     "output_type": "stream",
     "text": [
      "Guess a number 1-100\n",
      "50\n",
      "You lost. Lets try this again. Hint: Your guess is higher than the answer.\n",
      "Guess a number 1-100\n",
      "40\n",
      "You lost. Lets try this again. Hint: Your guess is lower than the answer.\n",
      "Guess a number 1-100\n",
      "45\n",
      "You lost. Lets try this again. Hint: Your guess is higher than the answer.\n",
      "Guess a number 1-100\n",
      "43\n",
      "You lost. Lets try this again. Hint: Your guess is higher than the answer.\n",
      "Guess a number 1-100\n",
      "42\n",
      "You won!\n"
     ]
    }
   ],
   "source": [
    "# imports and variables\n",
    "import random as rand\n",
    "correct = rand.randint(1,100)\n",
    "# the function\n",
    "def game():\n",
    "    guess = int(input(\"Guess a number 1-100\\n\"))\n",
    "    if guess == correct:\n",
    "        print(\"You won!\")\n",
    "    elif guess > 100 or guess < 1:\n",
    "        if guess > correct:\n",
    "            hint = \"higher\"\n",
    "        else:\n",
    "            hint = \"lower\"\n",
    "            print(\"You lost. Lets try this again. Remember, the number is between 1-100. Hint: Your guess is \" + hint + \" than the answer.\")\n",
    "            game()\n",
    "    else:\n",
    "        if guess > correct:\n",
    "            hint = \"higher\"\n",
    "        else:\n",
    "            hint = \"lower\"\n",
    "        print(\"You lost. Lets try this again. Hint: Your guess is \" + hint + \" than the answer.\")\n",
    "        game()\n",
    "# run the function for the first time to enter the recursive loop \n",
    "game()"
   ]
  },
  {
   "cell_type": "code",
   "execution_count": null,
   "metadata": {},
   "outputs": [],
   "source": []
  },
  {
   "cell_type": "code",
   "execution_count": null,
   "metadata": {},
   "outputs": [],
   "source": []
  }
 ],
 "metadata": {
  "colab": {
   "collapsed_sections": [],
   "provenance": []
  },
  "kernelspec": {
   "display_name": "Python 3 (ipykernel)",
   "language": "python",
   "name": "python3"
  },
  "language_info": {
   "codemirror_mode": {
    "name": "ipython",
    "version": 3
   },
   "file_extension": ".py",
   "mimetype": "text/x-python",
   "name": "python",
   "nbconvert_exporter": "python",
   "pygments_lexer": "ipython3",
   "version": "3.10.0"
  }
 },
 "nbformat": 4,
 "nbformat_minor": 1
}
