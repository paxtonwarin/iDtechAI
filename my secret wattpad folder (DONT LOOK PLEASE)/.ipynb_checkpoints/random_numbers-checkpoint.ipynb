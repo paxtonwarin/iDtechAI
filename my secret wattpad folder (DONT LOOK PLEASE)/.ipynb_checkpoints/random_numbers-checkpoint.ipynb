{
 "cells": [
  {
   "cell_type": "markdown",
   "metadata": {
    "id": "gpkny-jI3t3J"
   },
   "source": [
    "# Random Numbers\n",
    "\n",
    "Programs often require the use of random numbers in everything from games to cyber security.\n",
    "\n",
    "To see random numbers in action, you'll make a virtual board game where the player rolls dice.\n",
    "\n",
    "The first step in generating a random number is importing the random number generator. It's common for a programming language to have extra libraries that need to be imported.\n",
    "\n",
    "A **library** is a collection of code made by other programmers for you to import and use.\n",
    "\n",
    "1. Run the cell below to import the random library\n"
   ]
  },
  {
   "cell_type": "code",
   "execution_count": null,
   "metadata": {
    "id": "H5eLo-7PxWPK"
   },
   "outputs": [],
   "source": [
    "import random"
   ]
  },
  {
   "cell_type": "markdown",
   "metadata": {
    "id": "utwpcmSd4E0M"
   },
   "source": [
    "## Setting the Range\n",
    "\n",
    "When using a random number, it's important to set the range. For example, a Roll the Dice program could roll a 12-sided die, generating a random number between 1 and 12, including the end numbers.\n",
    "\n",
    "1. Add a print statement to the code below to let the user know that a random number is being generated.\n",
    "\n",
    "2. Run the cell to see a random number. "
   ]
  },
  {
   "cell_type": "code",
   "execution_count": 2,
   "metadata": {
    "id": "49_FopAR4Sci"
   },
   "outputs": [
    {
     "name": "stdout",
     "output_type": "stream",
     "text": [
      "WARNING! THERE IS AN IMMINENT RANDOM NUMBER BETWEEN 1 AND 12 INCOMING!! SEEK SHELTER!!\n",
      "2\n"
     ]
    }
   ],
   "source": [
    "import random\n",
    "# Add your print statement here:\n",
    "print (\"WARNING! THERE IS AN IMMINENT RANDOM NUMBER BETWEEN 1 AND 12 INCOMING!! SEEK SHELTER!!\")\n",
    "# Print out a random number between 1 and 12.\n",
    "print (random.randint(1, 12))"
   ]
  },
  {
   "cell_type": "markdown",
   "metadata": {
    "id": "Utl--Pdy4bJO"
   },
   "source": [
    "### Try this!\n",
    "\n",
    "Can you generate 10 random numbers between 1 and 100? "
   ]
  },
  {
   "cell_type": "code",
   "execution_count": 8,
   "metadata": {
    "id": "r31RkdoT4jP5"
   },
   "outputs": [
    {
     "name": "stdout",
     "output_type": "stream",
     "text": [
      "WARNING! THERE IS A NEW THREAT! 10 RANDOM NUMBERS ARE IMBOUND, RANGING FROM 1-100!!\n",
      "22\n",
      "15\n",
      "60\n",
      "74\n",
      "28\n",
      "74\n",
      "81\n",
      "55\n",
      "31\n",
      "63\n"
     ]
    }
   ],
   "source": [
    "import random\n",
    "# Add your print statement here:\n",
    "print (\"WARNING! THERE IS A NEW THREAT! 10 RANDOM NUMBERS ARE IMBOUND, RANGING FROM 1-100!!\")\n",
    "# Print out a random number between 1 and 12.\n",
    "print (str(random.randint(1, 100)) + \"\\n\" + str(random.randint(1, 100)) + \"\\n\" + str(random.randint(1, 100)) + \"\\n\" + str(random.randint(1, 100)) + \"\\n\" + str(random.randint(1, 100)) + \"\\n\" + str(random.randint(1, 100)) + \"\\n\" + str(random.randint(1, 100)) + \"\\n\" + str(random.randint(1, 100)) + \"\\n\" + str(random.randint(1, 100)) + \"\\n\" + str(random.randint(1, 100)))"
   ]
  },
  {
   "cell_type": "code",
   "execution_count": null,
   "metadata": {},
   "outputs": [],
   "source": []
  }
 ],
 "metadata": {
  "colab": {
   "authorship_tag": "ABX9TyN8jNHhPKjwBMySFR9uqMjA",
   "collapsed_sections": [],
   "name": "2.3_Random_Numbers.ipynb",
   "provenance": []
  },
  "kernelspec": {
   "display_name": "Python 3 (ipykernel)",
   "language": "python",
   "name": "python3"
  },
  "language_info": {
   "codemirror_mode": {
    "name": "ipython",
    "version": 3
   },
   "file_extension": ".py",
   "mimetype": "text/x-python",
   "name": "python",
   "nbconvert_exporter": "python",
   "pygments_lexer": "ipython3",
   "version": "3.10.0"
  }
 },
 "nbformat": 4,
 "nbformat_minor": 1
}
