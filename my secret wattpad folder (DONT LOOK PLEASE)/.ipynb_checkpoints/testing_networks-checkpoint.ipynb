{
 "cells": [
  {
   "cell_type": "markdown",
   "metadata": {
    "id": "sduu9xile3dG"
   },
   "source": [
    "## Testing a Network\n",
    "\n",
    "There are a lot of ways to test how effective your network is. You have mostly been using the test data from the MNIST dataset This is a really good way to make sure that the network has been trained for the data it has. However, as you set your network to actually complete the task it has been trained for, you might want to use your own images to see what the network is doing.\n",
    "\n",
    "\n",
    "1. Export your own models or use these ([densely connected](https://drive.google.com/file/d/1Lh52SRvSWSpKbOllblVDJnXnMwhPgBhZ/view?usp=sharing) and [convolutional](https://drive.google.com/file/d/1ko2XkaPHaQ6IS6JHF_ydSVZAxGIo1Qm6/view?usp=sharing)).\n",
    "\n",
    "2. Download [this](https://drive.google.com/file/d/1FDcz90j6a2adGd8eL0srRhIiIVcHsVoo/view?usp=sharing) image to run the first test. You might need to download more later. \n",
    "\n",
    "3. Run the cell below to add the helper functions to your code."
   ]
  },
  {
   "cell_type": "code",
   "execution_count": null,
   "metadata": {
    "id": "rSsYVW8Aevff"
   },
   "outputs": [],
   "source": [
    "from keras.preprocessing import image\n",
    "from PIL import Image,ImageChops \n",
    "import tensorflow as tf\n",
    "from tensorflow import keras\n",
    "from tensorflow.keras.datasets import mnist\n",
    "from tensorflow.keras import backend as K\n",
    "import numpy as np\n",
    "import matplotlib.pyplot as plt\n",
    "%matplotlib inline\n",
    "\n",
    "# Load in the original data\n",
    "(train_images, train_labels), (test_images, test_labels) = mnist.load_data()\n",
    "print(\"MNIST data loaded\")\n",
    "\n",
    "# This will work for the models if you download them from the links above. \n",
    "# If you want to export your own models, use the name of them here instead. \n",
    "my_model = tf.keras.models.load_model('my_model.h5')\n",
    "cnn_model = tf.keras.models.load_model('cnn_model.h5')\n",
    "\n",
    "# A function to graph an image with the label\n",
    "def plot_image(array, i, labels):\n",
    "  plt.imshow(np.squeeze(array[i]))\n",
    "  plt.title(\" Digit \" + str(labels[i]))\n",
    "  plt.xticks([])\n",
    "  plt.yticks([])\n",
    "  plt.show()\n",
    "\n",
    "# A function to use the model and image array (x) to make a prediction. The image will also be shown, and \n",
    "# labelled with the predicted label. \n",
    "def predict_image(model, x):\n",
    "  x = x.astype('float32')\n",
    "  x = x / 255.0\n",
    "\n",
    "  x = np.expand_dims(x, axis=0)\n",
    "\n",
    "  image_predict = model.predict(x, verbose=0)\n",
    "  print(\"Predicted Label: \", np.argmax(image_predict))\n",
    "\n",
    "  plt.imshow(np.squeeze(x))\n",
    "  plt.xticks([])\n",
    "  plt.yticks([])\n",
    "  plt.show()\n",
    " \n",
    "  # uncomment this like if you want to see the array of predictions\n",
    "  # print(image_predict)\n",
    "  return image_predict\n",
    "\n",
    "# Create a bar plot of the predictions array. The true label will be marked in blue, and the predicted label \n",
    "# (if different than the true label) will be marked red. The h argument dictates how tall the barplot is. \n",
    "def plot_value_array(predictions_array, true_label, h):\n",
    "  plt.grid(False)\n",
    "  plt.xticks(range(10))\n",
    "  plt.yticks([])\n",
    "  thisplot = plt.bar(range(10), predictions_array[0], color=\"#777777\")\n",
    "  plt.ylim([(-1*h), h])\n",
    "  predicted_label = np.argmax(predictions_array)\n",
    "\n",
    "  thisplot[predicted_label].set_color('red')\n",
    "  thisplot[true_label].set_color('blue')\n",
    "  plt.show()\n"
   ]
  },
  {
   "cell_type": "markdown",
   "metadata": {
    "id": "FI_ALXkCNfiI"
   },
   "source": [
    "4. Set the path variable to the name of your image.\n",
    "5. Load your image into the notebook using the path variable, the target size (should be `(28, 28)`) and the colormode (`grayscale`).\n",
    "6. Convert the image to an array\n",
    "7. Call predict_image on your image array.\n",
    "8. Call plot_value_array.\n",
    "9. Run the cell.\n",
    "\n",
    "<details>\n",
    "<summary>Final code: </summary>\n",
    "\n",
    "```\n",
    "path = \"test3.png\"\n",
    "img = tf.keras.preprocessing.image.load_img(path, target_size=(28,28), color_mode = \"grayscale\")\n",
    "img_arr = tf.keras.preprocessing.image.img_to_array(img)\n",
    "arr = predict_image(model_1,  img_arr)\n",
    "plot_value_array(arr, 3, 1)\n",
    "```\n",
    "</details>\n"
   ]
  },
  {
   "cell_type": "code",
   "execution_count": null,
   "metadata": {
    "id": "WmwePC3mNfRB"
   },
   "outputs": [],
   "source": []
  },
  {
   "cell_type": "markdown",
   "metadata": {},
   "source": [
    "Try these things to try to learn about how your network is performing on specific images. These tests are about coming up with theories for why a network makes a certain guess, not about deciding the effectiveness of a network based on how it performs on one image. You might train the exact same network, on the same data and it will perform differently on a specific image each time you train it. This is why machine learning experts test large batches of data and look at accuracy on a larger scale. \n",
    "\n",
    "However, it can be illuminating to look at how a specific network might be misidentifying certain images, and try to understand what it might be doing. Creating theories about what a network is doing, and how you might be able to combat that specific flaw is a useful skill. \n",
    "\n",
    "For these images, look at the whole graph of predictions for each test and try to notice trends. For example, you might notice that the guesses that a convolutional network makes are different than those that a densely connected one does. Think about how the information it is learning might be different. Often the guesses a densely connected network makes are more nonsensical than those that a convolutional network is. "
   ]
  },
  {
   "cell_type": "markdown",
   "metadata": {
    "id": "pbY9i9U5fqfS"
   },
   "source": [
    "## Test 1\n",
    "\n",
    "1. Download any of [these](https://drive.google.com/drive/folders/1P1p161W5SSt2wFh7W3Z7-6gFVsv7kVsW?usp=sharing) images. \n",
    "2. Run them through a convolutional network and a densely connected one. \n",
    "\n",
    "What differences do you notice about the output? Why do you think that is? What about a different image? \n",
    "\n",
    "\n",
    "\n",
    "<details>\n",
    "<summary>Final code: </summary>\n",
    "\n",
    "```\n",
    "path = \"test.jpg\"\n",
    "img = tf.keras.preprocessing.image.load_img(path, target_size=(28,28), color_mode = \"grayscale\")\n",
    "img_arr = tf.keras.preprocessing.image.img_to_array(img)\n",
    "# Run it through the dense neural net\n",
    "arr = predict_image(my_model,  img_arr)\n",
    "plot_value_array(arr, 3, 1)\n",
    "# Run it through the cnn\n",
    "arr = predict_image(cnn_model,  img_arr)\n",
    "plot_value_array(arr, 3, 1)\n",
    "```\n",
    "</details>"
   ]
  },
  {
   "cell_type": "code",
   "execution_count": null,
   "metadata": {
    "id": "iwFSCBLyG62g",
    "scrolled": false
   },
   "outputs": [],
   "source": []
  },
  {
   "cell_type": "markdown",
   "metadata": {
    "id": "m6bnMRLtfZWP"
   },
   "source": [
    "## Test 2\n",
    "\n",
    "1. Using numpy, create an array of random numbers to mirror pixels (0 to 255). \n",
    "2. Feed that into the model to see what predictions it makes. \n",
    "\n",
    "What does the network do with it? Does it have a prediction? This can help you understand what kinds of bias your network might have. \n",
    "\n",
    "3. Try 10 random generated arrays. Can you notice a trend? What about with 100? \n",
    "\n",
    "<br>\n",
    "\n",
    "<details><summary> Click for hint #1</summary>\n",
    "    \n",
    "You can use `plt.imshow(array)` to view an 2d array on a plot\n",
    "\n",
    "</details>\n",
    "\n",
    "<br>\n",
    "<details><summary> Click for hint #2</summary>\n",
    "    \n",
    "You can use `temp_arr = np.random.randint(0, 255, (28, 28, 1))` to generate an array (of shape 28, 28, 1) full of random numbers between 0 and 255. \n",
    "    \n",
    "</details>\n",
    "<br>\n",
    "\n",
    "\n",
    "<details><summary> Click for hint #3</summary>\n",
    "\n",
    "You can use the `predict_image` and `plot_value_array` functions, but you might need to fill in some dummy data. For example, in plot_value_array, the arguments should be a prediction array, the actual label (which in this case doesn't matter), and the height of the graph (which is pretty much always 1). \n",
    "\n",
    "</details>\n",
    "<br>\n",
    "\n",
    "<details><summary> Click for final code</summary>\n",
    "\n",
    "\n",
    "```\n",
    "for i in range(10): \n",
    "    temp_arr = np.random.randint(0, 255, (28, 28, 1))\n",
    "    plt.imshow(temp_arr)\n",
    "    pred = predict_image(model_1,  temp_arr)\n",
    "    plot_value_array(pred, 5, 1)\n",
    "       \n",
    " ```   \n",
    "    \n",
    "</details>\n"
   ]
  },
  {
   "cell_type": "code",
   "execution_count": null,
   "metadata": {
    "id": "PoTZFMDqG7sA",
    "scrolled": true
   },
   "outputs": [],
   "source": []
  },
  {
   "cell_type": "markdown",
   "metadata": {
    "id": "V1dR7TXCWgLf"
   },
   "source": [
    "## Test 3\n",
    "\n",
    "1. Download an image with more than one digit in it. You can use [this](https://drive.google.com/file/d/1MfhPXK8JJUebSmI5Y38FuqkHqYlQHpOY/view?usp=sharing) one, or draw your own. \n",
    "\n",
    "What can you learn about the network from it? What if you change the numbers? or the position of the number in the image? \n",
    "\n",
    "<br>\n",
    "\n",
    "<details>\n",
    "<summary>Final code: </summary>\n",
    "\n",
    "```\n",
    "path = \"test33.png\"\n",
    "img = tf.keras.preprocessing.image.load_img(path, target_size=(28,28), color_mode = \"grayscale\")\n",
    "img_arr = tf.keras.preprocessing.image.img_to_array(img)\n",
    "arr = predict_image(my_model,  img_arr)\n",
    "plot_value_array(arr, 3, 1)\n",
    "\n",
    "arr = predict_image(cnn_model,  img_arr)\n",
    "plot_value_array(arr, 3, 1)\n",
    "```\n",
    "</details>"
   ]
  },
  {
   "cell_type": "code",
   "execution_count": null,
   "metadata": {
    "id": "_-7grrCMG8l_"
   },
   "outputs": [],
   "source": []
  },
  {
   "cell_type": "markdown",
   "metadata": {
    "id": "0WkAl3TZYE51"
   },
   "source": [
    "## Test 4\n",
    "\n",
    "You can also call images from the test or train datasets. \n",
    "\n",
    "1. Run some images from the original data through your networks. Look at the graph and compare how the networks operate on data that they are accostomed to. \n",
    "2. Compare the test data on the dense neural net and the convolutional neural net.\n",
    "\n",
    "What does the output look like for these images? Can you write code to have it predict 10 random images? \n",
    "\n",
    "\n",
    "<details>\n",
    "<summary>Final code: </summary>\n",
    "\n",
    "```\n",
    "import random\n",
    "# prediction for the 100th image\n",
    "img_loc = 100\n",
    "img = test_images[img_loc]\n",
    "x = tf.keras.preprocessing.image.img_to_array(img)\n",
    "p_arr = predict_image(my_model, x)\n",
    "true_label = test_labels[img_loc]\n",
    "plot_value_array(p_arr, true_label, 1)\n",
    "\n",
    "# ten random images\n",
    "for i in range(10):\n",
    "    img_loc = random.randint(0, 10000)\n",
    "    img = test_images[img_loc]\n",
    "    x = tf.keras.preprocessing.image.img_to_array(img)\n",
    "    p_arr = predict_image(my_model, x)\n",
    "    true_label = test_labels[img_loc]\n",
    "    plot_value_array(p_arr, true_label, 1)\n",
    "```\n",
    "</details>"
   ]
  },
  {
   "cell_type": "code",
   "execution_count": null,
   "metadata": {
    "id": "cZCMqRQbG9LY"
   },
   "outputs": [],
   "source": []
  }
 ],
 "metadata": {
  "colab": {
   "collapsed_sections": [],
   "name": "8.3_testing_networks.ipynb",
   "provenance": []
  },
  "kernelspec": {
   "display_name": "Python 3 (ipykernel)",
   "language": "python",
   "name": "python3"
  },
  "language_info": {
   "codemirror_mode": {
    "name": "ipython",
    "version": 3
   },
   "file_extension": ".py",
   "mimetype": "text/x-python",
   "name": "python",
   "nbconvert_exporter": "python",
   "pygments_lexer": "ipython3",
   "version": "3.10.0"
  }
 },
 "nbformat": 4,
 "nbformat_minor": 1
}
